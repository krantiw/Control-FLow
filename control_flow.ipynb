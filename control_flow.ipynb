{
 "cells": [
  {
   "cell_type": "markdown",
   "id": "9eff9fce-56a4-4277-b527-a198280f198f",
   "metadata": {},
   "source": [
    "----------------------Basic If-Else Statements--------------------------------"
   ]
  },
  {
   "cell_type": "markdown",
   "id": "f5775e60-40a8-42bc-b9bd-8e0e66ee0290",
   "metadata": {},
   "source": [
    "1. Write a Python program to check if a given number is positive or negative."
   ]
  },
  {
   "cell_type": "code",
   "execution_count": 5,
   "id": "f5dec39f-d675-4ee7-8002-66e7635e6884",
   "metadata": {},
   "outputs": [],
   "source": [
    "def check(num):\n",
    "    if num > 0:\n",
    "        return num, \"is Positive\"\n",
    "    elif num <0:\n",
    "        return num, \"is Negative\"\n",
    "    else:\n",
    "        return \"Num is Zero\""
   ]
  },
  {
   "cell_type": "code",
   "execution_count": 6,
   "id": "7ae297ef-a471-4371-bd70-2672493bc0f4",
   "metadata": {},
   "outputs": [
    {
     "data": {
      "text/plain": [
       "(87, 'is Positive')"
      ]
     },
     "execution_count": 6,
     "metadata": {},
     "output_type": "execute_result"
    }
   ],
   "source": [
    "check(87)"
   ]
  },
  {
   "cell_type": "code",
   "execution_count": 7,
   "id": "17de5987-add4-4676-9877-536f6fdb07e9",
   "metadata": {},
   "outputs": [
    {
     "data": {
      "text/plain": [
       "'Num is Zero'"
      ]
     },
     "execution_count": 7,
     "metadata": {},
     "output_type": "execute_result"
    }
   ],
   "source": [
    "check(0)"
   ]
  },
  {
   "cell_type": "code",
   "execution_count": 8,
   "id": "c44fd9f6-87b7-41a9-8873-5151eca756a8",
   "metadata": {},
   "outputs": [
    {
     "data": {
      "text/plain": [
       "(-7, 'is Negative')"
      ]
     },
     "execution_count": 8,
     "metadata": {},
     "output_type": "execute_result"
    }
   ],
   "source": [
    "check(-7)"
   ]
  },
  {
   "cell_type": "markdown",
   "id": "5c25f011-fbc7-420a-aa55-8e89584576c8",
   "metadata": {},
   "source": [
    "2. Create a program that determines if a person is eligible to vote based on their age."
   ]
  },
  {
   "cell_type": "code",
   "execution_count": 15,
   "id": "f9a6126e-d854-4deb-ab36-3a4758900e21",
   "metadata": {},
   "outputs": [
    {
     "name": "stdin",
     "output_type": "stream",
     "text": [
      "Enter Age of A person 98\n"
     ]
    }
   ],
   "source": [
    "age = int(input(\"Enter Age of A person\"))"
   ]
  },
  {
   "cell_type": "code",
   "execution_count": 16,
   "id": "a87d7688-022f-4deb-9a25-69ecc6467755",
   "metadata": {},
   "outputs": [
    {
     "name": "stdout",
     "output_type": "stream",
     "text": [
      "person is eligible to vote\n"
     ]
    }
   ],
   "source": [
    "if age > 18:\n",
    "    print(\"person is eligible to vote\")\n",
    "else:\n",
    "    print(\"person isnt eligible to vote\")"
   ]
  },
  {
   "cell_type": "markdown",
   "id": "3c72e4b4-ae9c-4f5e-941c-f908163053fe",
   "metadata": {},
   "source": [
    "3. Develop a program to find the maximum of two numbers using if-else statements."
   ]
  },
  {
   "cell_type": "code",
   "execution_count": 18,
   "id": "2fab7d9e-57c4-471f-aa6c-5917b72eabe6",
   "metadata": {},
   "outputs": [],
   "source": [
    "def maximum(num1,num2):\n",
    "    if num1 >num2:\n",
    "        return num1\n",
    "    else:\n",
    "        return num2"
   ]
  },
  {
   "cell_type": "code",
   "execution_count": 19,
   "id": "027dfef8-289b-403a-86dc-1bd2f34bfc63",
   "metadata": {},
   "outputs": [
    {
     "data": {
      "text/plain": [
       "8"
      ]
     },
     "execution_count": 19,
     "metadata": {},
     "output_type": "execute_result"
    }
   ],
   "source": [
    "maximum(8,4)"
   ]
  },
  {
   "cell_type": "markdown",
   "id": "03c002dd-1227-40a5-8fed-b6958180d110",
   "metadata": {},
   "source": [
    "4. Write a Python script to classify a given year as a leap year or not."
   ]
  },
  {
   "cell_type": "code",
   "execution_count": null,
   "id": "304b5cbb-2a90-402b-83d2-a48c73f4089a",
   "metadata": {},
   "outputs": [],
   "source": [
    "#A leap year is exactly divisible by 4 except for century years (years ending with 00). \n",
    "#The century year is a leap year only if it is perfectly divisible by 400."
   ]
  },
  {
   "cell_type": "code",
   "execution_count": 13,
   "id": "2259a1a2-c95e-481a-bf2a-955c6e7da7ca",
   "metadata": {},
   "outputs": [],
   "source": [
    "years = [1900,2017,2012,2014,1016,2000]"
   ]
  },
  {
   "cell_type": "code",
   "execution_count": 17,
   "id": "6b34286d-1e73-4703-bce5-d3b66e4db847",
   "metadata": {},
   "outputs": [
    {
     "name": "stdout",
     "output_type": "stream",
     "text": [
      "1900 is Not a Leap Year\n",
      "2017 is Not a Leap Year\n",
      "2012 is a Leap Year\n",
      "2014 is Not a Leap Year\n",
      "1016 is a Leap Year\n",
      "2000 is a Leap Year\n"
     ]
    }
   ],
   "source": [
    "for year in years:\n",
    "    if (year % 100 ==0 and year % 400== 0):#century year is a leap year\n",
    "        print(year,\"is a Leap Year\")\n",
    "    elif (year % 100 !=0 and year % 4 ==0):#non century year  is a leap year\n",
    "        print(year, \"is a Leap Year\")\n",
    "    else:\n",
    "        print(year,\"is Not a Leap Year\")\n",
    "    "
   ]
  },
  {
   "cell_type": "markdown",
   "id": "46dac255-b1be-4eb2-9215-be35ab74b14e",
   "metadata": {},
   "source": [
    "5. Create a program that checks whether a character is a vowel or a consonant"
   ]
  },
  {
   "cell_type": "code",
   "execution_count": 20,
   "id": "2fe5d743-770e-4273-9cf3-3c30c6a409da",
   "metadata": {},
   "outputs": [],
   "source": [
    "def check(x):\n",
    "    if x in \"aeiouAEIOU\":\n",
    "        return \"It is a Vowel\"\n",
    "    else:\n",
    "        return \"It is a Consonant\"\n",
    "    "
   ]
  },
  {
   "cell_type": "code",
   "execution_count": 21,
   "id": "1786ff02-126c-4608-9a54-d2e5c2a30f07",
   "metadata": {},
   "outputs": [
    {
     "data": {
      "text/plain": [
       "'It is a Vowel'"
      ]
     },
     "execution_count": 21,
     "metadata": {},
     "output_type": "execute_result"
    }
   ],
   "source": [
    "check(\"a\")"
   ]
  },
  {
   "cell_type": "code",
   "execution_count": 23,
   "id": "2e8ec035-3d08-400c-98a8-39f33ad87613",
   "metadata": {},
   "outputs": [
    {
     "data": {
      "text/plain": [
       "'It is a Consonant'"
      ]
     },
     "execution_count": 23,
     "metadata": {},
     "output_type": "execute_result"
    }
   ],
   "source": [
    "check(\"T\")"
   ]
  },
  {
   "cell_type": "code",
   "execution_count": 24,
   "id": "31fea87b-312d-4426-ae4f-fa2184b754a8",
   "metadata": {},
   "outputs": [
    {
     "data": {
      "text/plain": [
       "'It is a Vowel'"
      ]
     },
     "execution_count": 24,
     "metadata": {},
     "output_type": "execute_result"
    }
   ],
   "source": [
    "check(\"O\")"
   ]
  },
  {
   "cell_type": "markdown",
   "id": "efa3e908-f550-4c09-b403-3a0c18cbf755",
   "metadata": {},
   "source": [
    "6. Implement a program to determine whether a given number is even or odd.\n"
   ]
  },
  {
   "cell_type": "code",
   "execution_count": 26,
   "id": "a7a5c149-cd00-4e08-9ca0-ff4884ae422a",
   "metadata": {},
   "outputs": [],
   "source": [
    "def even_odd(num):\n",
    "    if num %2 == 0:\n",
    "        return num, \"is even\"\n",
    "    else:\n",
    "        return num, \"is Odd\""
   ]
  },
  {
   "cell_type": "code",
   "execution_count": 27,
   "id": "caf0514a-e085-443a-9d92-f81151bcf43b",
   "metadata": {},
   "outputs": [
    {
     "data": {
      "text/plain": [
       "(-19, 'is Odd')"
      ]
     },
     "execution_count": 27,
     "metadata": {},
     "output_type": "execute_result"
    }
   ],
   "source": [
    "even_odd(-19)"
   ]
  },
  {
   "cell_type": "code",
   "execution_count": 28,
   "id": "a6522d49-3f11-4bb3-bb63-4c1211fd0e5b",
   "metadata": {},
   "outputs": [
    {
     "data": {
      "text/plain": [
       "(8, 'is even')"
      ]
     },
     "execution_count": 28,
     "metadata": {},
     "output_type": "execute_result"
    }
   ],
   "source": [
    "even_odd(8)"
   ]
  },
  {
   "cell_type": "markdown",
   "id": "b2d26a28-d36c-4fd9-a651-10d0e888e677",
   "metadata": {},
   "source": [
    "7. Write a Python function to calculate the absolute value of a number without using the `abs()` function.\n"
   ]
  },
  {
   "cell_type": "code",
   "execution_count": 81,
   "id": "68f9f57e-5edc-41be-a523-7f7f095dd592",
   "metadata": {},
   "outputs": [
    {
     "name": "stdout",
     "output_type": "stream",
     "text": [
      "10\n",
      "20\n",
      "0\n"
     ]
    }
   ],
   "source": [
    "def absolute_value(num):\n",
    "    \"\"\"This function returns the absolute\n",
    "    value of the entered number\"\"\"\n",
    "\n",
    "    if num >= 0:\n",
    "        return num\n",
    "    else:\n",
    "        return -num\n",
    "\n",
    "# Test the function with positive, negative, and zero values\n",
    "print(absolute_value(10))  \n",
    "print(absolute_value(-20))  \n",
    "print(absolute_value(0))  "
   ]
  },
  {
   "cell_type": "code",
   "execution_count": 87,
   "id": "bd5ae1b0-3528-49b2-9953-1657acf26514",
   "metadata": {},
   "outputs": [],
   "source": [
    "def absolute_value(num):\n",
    "    if num >=0:\n",
    "        return num\n",
    "    else:\n",
    "        return -num"
   ]
  },
  {
   "cell_type": "code",
   "execution_count": 89,
   "id": "79f00017-0d17-478c-8c8c-5e0afb54da45",
   "metadata": {},
   "outputs": [
    {
     "data": {
      "text/plain": [
       "9"
      ]
     },
     "execution_count": 89,
     "metadata": {},
     "output_type": "execute_result"
    }
   ],
   "source": [
    "absolute_value(-9)"
   ]
  },
  {
   "cell_type": "code",
   "execution_count": 90,
   "id": "aae2b0d3-8160-4409-a225-018551babcb0",
   "metadata": {},
   "outputs": [
    {
     "data": {
      "text/plain": [
       "0.56"
      ]
     },
     "execution_count": 90,
     "metadata": {},
     "output_type": "execute_result"
    }
   ],
   "source": [
    "absolute_value(-0.56)"
   ]
  },
  {
   "cell_type": "code",
   "execution_count": 93,
   "id": "59947663-f97c-4e0e-9f34-4c43a83c94e1",
   "metadata": {},
   "outputs": [
    {
     "data": {
      "text/plain": [
       "9"
      ]
     },
     "execution_count": 93,
     "metadata": {},
     "output_type": "execute_result"
    }
   ],
   "source": [
    "absolute_value(9)"
   ]
  },
  {
   "cell_type": "markdown",
   "id": "074c6655-b19a-430b-aad9-0659525992ed",
   "metadata": {},
   "source": [
    "8. Develop a program that determines the largest of three given numbers using if-else statements.\n"
   ]
  },
  {
   "cell_type": "code",
   "execution_count": 47,
   "id": "615c40a8-b340-47b3-94f6-50352b9c89ca",
   "metadata": {},
   "outputs": [
    {
     "name": "stdout",
     "output_type": "stream",
     "text": [
      "60 is the largest\n"
     ]
    }
   ],
   "source": [
    "list3 = [10,60,5]\n",
    "\n",
    "if ((list3[0] > list3[1]) and (list3[0] > list3[2])):\n",
    "    print(list3[0], \"is the largest\")\n",
    "\n",
    "elif ((list3[1] > list3[0]) and (list3[1] > list3[2])):\n",
    "    print(list3[1], \"is the largest\")\n",
    "\n",
    "else:\n",
    "    print(list3[2], \"is the largest\")"
   ]
  },
  {
   "cell_type": "markdown",
   "id": "df1277b4-a5f4-4ab7-b7b2-9466efa4e8f4",
   "metadata": {},
   "source": [
    "9. Create a program that checks if a given string is a palindrome.\n"
   ]
  },
  {
   "cell_type": "code",
   "execution_count": 56,
   "id": "6e3f2103-33d6-4669-80ad-12f3dbc97da8",
   "metadata": {},
   "outputs": [],
   "source": [
    "def palindrome(strings):\n",
    "    if strings == strings[::-1]:\n",
    "        return strings,\"is Palindrome\"\n",
    "    else:\n",
    "        return strings,\"isnt Palindrome\""
   ]
  },
  {
   "cell_type": "code",
   "execution_count": 57,
   "id": "49d914c4-1a38-4be3-aa3f-4ab39d6d33b0",
   "metadata": {},
   "outputs": [
    {
     "data": {
      "text/plain": [
       "('madam', 'is Palindrome')"
      ]
     },
     "execution_count": 57,
     "metadata": {},
     "output_type": "execute_result"
    }
   ],
   "source": [
    "palindrome(\"madam\")"
   ]
  },
  {
   "cell_type": "code",
   "execution_count": 58,
   "id": "8bbce69c-cf1b-47c4-ad3f-b1f08f75f693",
   "metadata": {},
   "outputs": [
    {
     "data": {
      "text/plain": [
       "('data', 'isnt Palindrome')"
      ]
     },
     "execution_count": 58,
     "metadata": {},
     "output_type": "execute_result"
    }
   ],
   "source": [
    "palindrome(\"data\")"
   ]
  },
  {
   "cell_type": "markdown",
   "id": "cc6f9f76-8bb1-49a8-a729-a18dfa1b713b",
   "metadata": {},
   "source": [
    "10. Write a Python program to calculate the grade based on a student's score."
   ]
  },
  {
   "cell_type": "raw",
   "id": "9ae9516b-e6e7-40c5-8d92-07a0ed3ad97d",
   "metadata": {},
   "source": [
    "91 to 100   A\n",
    "81 to 90\tB\n",
    "71 to 80\tC\n",
    "61 to 70\tD\n",
    "Below 60\tE"
   ]
  },
  {
   "cell_type": "code",
   "execution_count": 155,
   "id": "e2ab0f74-f7cf-47c8-888c-9819660bdde2",
   "metadata": {},
   "outputs": [],
   "source": [
    "def grade(marks):\n",
    "    if 90 < marks <=100:\n",
    "        print(\"Marks received is:\",marks,\"Grade received is A\")\n",
    "    elif (marks >= 80 and marks<90):\n",
    "        print(\"Marks received is:\",marks,\"Grade received is B\")\n",
    "    elif (marks >= 70 and marks<80):\n",
    "        print(\"Marks received is:\",marks,\"Grade received is C\")\n",
    "    elif (marks >= 60 and marks<70):\n",
    "        print(\"Marks received is:\",marks,\"Grade received is D\")\n",
    "    elif (marks<60):\n",
    "        print(\"Marks received is:\",marks,\"Grade received is E\")\n",
    "    else:\n",
    "        print(marks,\":invalid marks!!!\")"
   ]
  },
  {
   "cell_type": "code",
   "execution_count": 156,
   "id": "647a6f63-240f-454c-b19d-0884ed0907d2",
   "metadata": {},
   "outputs": [
    {
     "name": "stdout",
     "output_type": "stream",
     "text": [
      "Marks received is: 100 Grade received is A\n",
      "Marks received is: 78 Grade received is C\n",
      "Marks received is: 23 Grade received is E\n",
      "Marks received is: 65 Grade received is D\n",
      "112 :invalid marks!!!\n",
      "Marks received is: 55 Grade received is E\n",
      "Marks received is: 83 Grade received is B\n"
     ]
    }
   ],
   "source": [
    "for i in [100,78,23,65,112,55,83]:\n",
    "    grade(i)"
   ]
  },
  {
   "cell_type": "code",
   "execution_count": 78,
   "id": "42360df1-6c25-46b6-a041-bf9f59ff2f2c",
   "metadata": {},
   "outputs": [
    {
     "name": "stdout",
     "output_type": "stream",
     "text": [
      "90 Grade received is A\n"
     ]
    }
   ],
   "source": [
    "grade(90)"
   ]
  },
  {
   "cell_type": "markdown",
   "id": "6098fe4e-496e-45fc-b1c8-23186158a692",
   "metadata": {},
   "source": [
    "-------------------------------Nested If-Else Statements:-------------------"
   ]
  },
  {
   "cell_type": "markdown",
   "id": "9cb2e417-9159-409d-b88a-97fa9dfb49ea",
   "metadata": {},
   "source": [
    "11. Write a program to find the largest among three numbers using nested if-else statements.\n"
   ]
  },
  {
   "cell_type": "code",
   "execution_count": 34,
   "id": "e6a0fb6a-b861-4607-aac9-b8c09adaec61",
   "metadata": {},
   "outputs": [],
   "source": [
    "def largest(a,b,c):\n",
    "    if (a> b and a>c):\n",
    "        print(a,\"is largest\")\n",
    "    elif(b>a and b>c):\n",
    "        print(b,\"is largest\")\n",
    "    else:\n",
    "        print(c,\"is largest\")\n",
    "    "
   ]
  },
  {
   "cell_type": "code",
   "execution_count": 35,
   "id": "0e4056fd",
   "metadata": {},
   "outputs": [
    {
     "name": "stdout",
     "output_type": "stream",
     "text": [
      "7 is largest\n"
     ]
    }
   ],
   "source": [
    "largest(5,6,7)"
   ]
  },
  {
   "cell_type": "code",
   "execution_count": 36,
   "id": "af3d25e4",
   "metadata": {},
   "outputs": [
    {
     "name": "stdout",
     "output_type": "stream",
     "text": [
      "20 is largest\n"
     ]
    }
   ],
   "source": [
    "largest(10,20,8)"
   ]
  },
  {
   "cell_type": "code",
   "execution_count": 37,
   "id": "f8605322",
   "metadata": {},
   "outputs": [
    {
     "name": "stdout",
     "output_type": "stream",
     "text": [
      "4 is largest\n"
     ]
    }
   ],
   "source": [
    "largest(4,3,2)"
   ]
  },
  {
   "cell_type": "markdown",
   "id": "c591cbad-7c02-48a9-bf6a-6cdfdd8e0496",
   "metadata": {},
   "source": [
    "\n",
    "12. Implement a program to determine if a triangle is equilateral, isosceles, or scalene.\n"
   ]
  },
  {
   "cell_type": "code",
   "execution_count": 29,
   "id": "445f9181-e6e5-430d-b1a4-399787905575",
   "metadata": {},
   "outputs": [],
   "source": [
    "def triange(a,b,c):\n",
    "    if (a==b==c):\n",
    "        print(\"Equilaterial\")\n",
    "    elif(a==b or b==c or c==a):\n",
    "        print(\"Isosceles\")\n",
    "    else:\n",
    "        print(\"Scalene\")"
   ]
  },
  {
   "cell_type": "code",
   "execution_count": 30,
   "id": "c7462321",
   "metadata": {},
   "outputs": [
    {
     "name": "stdout",
     "output_type": "stream",
     "text": [
      "Isosceles\n"
     ]
    }
   ],
   "source": [
    "triange(10,10,4)"
   ]
  },
  {
   "cell_type": "code",
   "execution_count": 31,
   "id": "5c554e75",
   "metadata": {},
   "outputs": [
    {
     "name": "stdout",
     "output_type": "stream",
     "text": [
      "Scalene\n"
     ]
    }
   ],
   "source": [
    "triange(2,4,6)"
   ]
  },
  {
   "cell_type": "code",
   "execution_count": 32,
   "id": "a16a8c51",
   "metadata": {},
   "outputs": [
    {
     "name": "stdout",
     "output_type": "stream",
     "text": [
      "Equilaterial\n"
     ]
    }
   ],
   "source": [
    "triange(5,5,5)"
   ]
  },
  {
   "cell_type": "markdown",
   "id": "d411e3bd-5414-47b8-bb88-a4ee6c2108b8",
   "metadata": {},
   "source": [
    "13. Develop a program that checks if a year is a leap year and also if it is a century year."
   ]
  },
  {
   "cell_type": "raw",
   "id": "f29bdf18",
   "metadata": {},
   "source": [
    "for century year  ---> yr%100 and yr%400\n",
    "non century year --> y%100 !=0 and yr%4 ==0"
   ]
  },
  {
   "cell_type": "code",
   "execution_count": 43,
   "id": "7a84f930",
   "metadata": {},
   "outputs": [],
   "source": [
    "years= [1700, 2000,2024,800,1800,1900]"
   ]
  },
  {
   "cell_type": "code",
   "execution_count": 44,
   "id": "cd42923d",
   "metadata": {},
   "outputs": [
    {
     "name": "stdout",
     "output_type": "stream",
     "text": [
      "1700 It is not a leap year\n",
      "2000 It is a Leap year and century year\n",
      "2024 It is a Leap Year but not a Century year\n",
      "800 It is a Leap year and century year\n",
      "1800 It is not a leap year\n",
      "1900 It is not a leap year\n"
     ]
    }
   ],
   "source": [
    "for year in years:\n",
    "    if year%4 ==0 and year%100 != 0:\n",
    "        print(year,\"It is a Leap Year but not a Century year\")\n",
    "    elif year%100 ==0 and year%400 ==0 :\n",
    "        print(year,\"It is a Leap year and century year\")\n",
    "    else:\n",
    "        print(year,\"It is not a leap year\")"
   ]
  },
  {
   "cell_type": "markdown",
   "id": "98385138-ccb3-4703-afa2-d143e70ca582",
   "metadata": {},
   "source": [
    "14. Write a Python script to determine if a number is positive, negative, or zero."
   ]
  },
  {
   "cell_type": "code",
   "execution_count": 5,
   "id": "9d8c39dd",
   "metadata": {},
   "outputs": [
    {
     "name": "stdout",
     "output_type": "stream",
     "text": [
      "-990\n",
      "It is a Negative Number\n"
     ]
    }
   ],
   "source": [
    "num = float(input())\n",
    "\n",
    "if num >= 0:\n",
    "    if num ==0 :\n",
    "        print(\"It is a Zero\")\n",
    "    else:\n",
    "        print(\"It is a Positive Number\")\n",
    "else:\n",
    "    print(\"It is a Negative Number\")"
   ]
  },
  {
   "cell_type": "markdown",
   "id": "87202b89-3af1-43c3-a770-e49800a172be",
   "metadata": {},
   "source": [
    "15. Create a program to check if a person is a teenager (between 13 and 19 years old)."
   ]
  },
  {
   "cell_type": "code",
   "execution_count": 50,
   "id": "887cc42a",
   "metadata": {},
   "outputs": [],
   "source": [
    "ages =[20,16,8]"
   ]
  },
  {
   "cell_type": "code",
   "execution_count": 51,
   "id": "92120a0a",
   "metadata": {},
   "outputs": [
    {
     "name": "stdout",
     "output_type": "stream",
     "text": [
      "20 It is an Adult above 19 years\n",
      "16 It is a teenage\n",
      "8 It is a Kid below 13 years\n"
     ]
    }
   ],
   "source": [
    "for age in ages:\n",
    "    if age <=19:\n",
    "        if age >=13:\n",
    "            print(age,\"It is a teenage\")\n",
    "        else:\n",
    "            print(age,\"It is a Kid below 13 years\")\n",
    "    else:\n",
    "        print(age,\"It is an Adult above 19 years\")"
   ]
  },
  {
   "cell_type": "markdown",
   "id": "44fb62ab-16e2-4c4b-ac4c-1a79623f5776",
   "metadata": {},
   "source": [
    "16. Develop a program that determines the type of angle based on its measure (acute, obtuse, or right)."
   ]
  },
  {
   "cell_type": "raw",
   "id": "e42ed68d",
   "metadata": {},
   "source": [
    "acute <90\n",
    "obtuse >90\n",
    "right = 90"
   ]
  },
  {
   "cell_type": "code",
   "execution_count": 58,
   "id": "e4b91a9a",
   "metadata": {},
   "outputs": [],
   "source": [
    "def triangle(angle):\n",
    "    if angle < 90:\n",
    "        print(\"Acute Angle\")\n",
    "    elif angle == 90:\n",
    "        print(\"Right Angle\")\n",
    "    else:\n",
    "        print(\"Obtuse Angle\")"
   ]
  },
  {
   "cell_type": "code",
   "execution_count": 59,
   "id": "84396d60",
   "metadata": {},
   "outputs": [
    {
     "name": "stdout",
     "output_type": "stream",
     "text": [
      "Right Angle\n"
     ]
    }
   ],
   "source": [
    "triangle(90)"
   ]
  },
  {
   "cell_type": "code",
   "execution_count": 60,
   "id": "48aa1438",
   "metadata": {},
   "outputs": [
    {
     "name": "stdout",
     "output_type": "stream",
     "text": [
      "Acute Angle\n"
     ]
    }
   ],
   "source": [
    "triangle(50)"
   ]
  },
  {
   "cell_type": "code",
   "execution_count": 61,
   "id": "7b87ba37",
   "metadata": {},
   "outputs": [
    {
     "name": "stdout",
     "output_type": "stream",
     "text": [
      "Obtuse Angle\n"
     ]
    }
   ],
   "source": [
    "triangle(100)"
   ]
  },
  {
   "cell_type": "markdown",
   "id": "5e3eea1f-3560-4d79-9649-0b166e0a17ad",
   "metadata": {},
   "source": [
    "17. Write a Python program to calculate the roots of a quadratic equation."
   ]
  },
  {
   "cell_type": "raw",
   "id": "4a80214f",
   "metadata": {},
   "source": [
    "roots = sqrt(b**2- 4*a*c)\n",
    "ax2 + bx + c = 0\n",
    "where,\n",
    "a, b, and c are coefficient and real numbers and also a ≠ 0."
   ]
  },
  {
   "cell_type": "code",
   "execution_count": null,
   "id": "2afa37e8",
   "metadata": {},
   "outputs": [],
   "source": []
  },
  {
   "cell_type": "code",
   "execution_count": null,
   "id": "880fb92b",
   "metadata": {},
   "outputs": [],
   "source": []
  },
  {
   "cell_type": "code",
   "execution_count": null,
   "id": "ce9fd273",
   "metadata": {},
   "outputs": [],
   "source": []
  },
  {
   "cell_type": "code",
   "execution_count": null,
   "id": "d0643e7e",
   "metadata": {},
   "outputs": [],
   "source": []
  },
  {
   "cell_type": "markdown",
   "id": "f4770945-4ff2-4a8c-8bd8-1c05d9819f94",
   "metadata": {},
   "source": [
    "18. Implement a program to determine the day of the week based on a user-provided number (1 for Monday, 2\n",
    "for Tuesday, etc.).\n",
    "\n"
   ]
  },
  {
   "cell_type": "code",
   "execution_count": 11,
   "id": "0e1a9680",
   "metadata": {},
   "outputs": [],
   "source": [
    "def day_of_the_week(day):\n",
    "    if day == 1:\n",
    "        print(\"Monday\")\n",
    "    elif day == 2:\n",
    "        print(\"Tuesday\")\n",
    "    elif day == 3:\n",
    "        print(\"Wednesday\")\n",
    "    elif day == 4:\n",
    "        print(\"Thursday\")\n",
    "    elif day == 5:\n",
    "        print(\"Friday\")\n",
    "    elif day == 6:\n",
    "        print(\"Saturday\")\n",
    "    elif day == 7:\n",
    "        print(\"Sunday\")\n",
    "    else:\n",
    "        print(\"Invalid day\")"
   ]
  },
  {
   "cell_type": "code",
   "execution_count": 12,
   "id": "0e1bdc2d",
   "metadata": {},
   "outputs": [
    {
     "name": "stdout",
     "output_type": "stream",
     "text": [
      "Invalid day\n"
     ]
    }
   ],
   "source": [
    "day_of_the_week(9)"
   ]
  },
  {
   "cell_type": "code",
   "execution_count": 13,
   "id": "99940feb",
   "metadata": {},
   "outputs": [
    {
     "name": "stdout",
     "output_type": "stream",
     "text": [
      "Saturday\n"
     ]
    }
   ],
   "source": [
    "day_of_the_week(6)"
   ]
  },
  {
   "cell_type": "markdown",
   "id": "e321479c-d320-4071-a016-26c9594be330",
   "metadata": {},
   "source": [
    "19. Create a program that determines if a year is a leap year and also if it is evenly divisible by 400."
   ]
  },
  {
   "cell_type": "raw",
   "id": "02e9557c",
   "metadata": {},
   "source": [
    "a year that is evenly divisible by 100 (for example, 1900) is a leap year only if it is also evenly divisible by 400.\n",
    "\n",
    "not leap years: 1700, 1800, 1900, 2100, 2200, 2300, 2500, 2600\n",
    "\n",
    "The following years are leap years: 1600, 2000, 2400 --> evenly divisible by both 100 and 400."
   ]
  },
  {
   "cell_type": "raw",
   "id": "8e4d17a3",
   "metadata": {},
   "source": [
    "if((Year % 400 == 0) or (Year % 100 != 0) and  (Year % 4 == 0)):   "
   ]
  },
  {
   "cell_type": "code",
   "execution_count": 62,
   "id": "21255a2e",
   "metadata": {},
   "outputs": [
    {
     "data": {
      "text/plain": [
       "[1700, 2000, 2024, 800, 1800, 1900]"
      ]
     },
     "execution_count": 62,
     "metadata": {},
     "output_type": "execute_result"
    }
   ],
   "source": [
    "years"
   ]
  },
  {
   "cell_type": "code",
   "execution_count": 74,
   "id": "d86c30c7",
   "metadata": {},
   "outputs": [
    {
     "name": "stdout",
     "output_type": "stream",
     "text": [
      "1700 not leap year\n",
      "2000 leap year\n",
      "2024 leap year\n",
      "800 leap year\n",
      "1800 not leap year\n",
      "1900 not leap year\n"
     ]
    }
   ],
   "source": [
    "for year in years:\n",
    "    if (year%400 ==0 or year%100 !=0 and year%4 ==0):\n",
    "        print(year,\"leap year\")\n",
    "    else:\n",
    "        print(year, \"not leap year\")"
   ]
  },
  {
   "cell_type": "markdown",
   "id": "270944d5-d006-4c3f-9859-498bf8749303",
   "metadata": {},
   "source": [
    "\n",
    "20. Develop a program that checks if a given number is prime or not using nested if-else statements."
   ]
  },
  {
   "cell_type": "code",
   "execution_count": 142,
   "id": "2faa38ff",
   "metadata": {},
   "outputs": [
    {
     "name": "stdout",
     "output_type": "stream",
     "text": [
      "2 is a prime number\n",
      "3 is a prime number\n",
      "4 not a prime number\n",
      "5 is a prime number\n",
      "6 not a prime number\n",
      "7 is a prime number\n",
      "8 not a prime number\n",
      "9 not a prime number\n",
      "10 not a prime number\n",
      "11 is a prime number\n",
      "12 not a prime number\n",
      "13 is a prime number\n",
      "14 not a prime number\n",
      "15 not a prime number\n",
      "16 not a prime number\n",
      "17 is a prime number\n",
      "18 not a prime number\n",
      "19 is a prime number\n",
      "list of prime numbers [2, 3, 5, 7, 11, 13, 17, 19]\n"
     ]
    }
   ],
   "source": [
    "prime=[]\n",
    "\n",
    "for i in range(2,20):\n",
    "    for j in range(2,20):\n",
    "        if i%j ==0:\n",
    "            #print(i,j)\n",
    "            break\n",
    "    if i==j:\n",
    "        prime.append(j)\n",
    "        print(i, \"is a prime number\")\n",
    "    else:\n",
    "        print(i, \"not a prime number\")\n",
    "print(\"list of prime numbers\",prime)\n",
    "        \n",
    "        \n",
    "                \n",
    "                \n"
   ]
  },
  {
   "cell_type": "markdown",
   "id": "7b7fef9f",
   "metadata": {},
   "source": [
    "# -----------------------Elif Statement-----------------------------------"
   ]
  },
  {
   "cell_type": "markdown",
   "id": "72304e5c",
   "metadata": {},
   "source": [
    "21. Write a Python program to assign grades based on different ranges of scores using elif statements.\n",
    "\n",
    "\n"
   ]
  },
  {
   "cell_type": "raw",
   "id": "82ef97e3",
   "metadata": {},
   "source": [
    "91 to 100   A\n",
    "81 to 90\tB\n",
    "71 to 80\tC\n",
    "61 to 70\tD\n",
    "Below 60\tE"
   ]
  },
  {
   "cell_type": "code",
   "execution_count": 158,
   "id": "3afb41f8",
   "metadata": {},
   "outputs": [],
   "source": [
    "def grade(marks):\n",
    "    if 90 < marks <=100:\n",
    "        print(\"Marks received is:\",marks,\"Grade received is A\")\n",
    "    elif (81<= marks<=90):\n",
    "        print(\"Marks received is:\",marks,\"Grade received is B\")\n",
    "    elif (71<= marks<=80):\n",
    "        print(\"Marks received is:\",marks,\"Grade received is C\")\n",
    "    elif (61<= marks<=70):\n",
    "        print(\"Marks received is:\",marks,\"Grade received is D\")\n",
    "    elif (marks<60):\n",
    "        print(\"Marks received is:\",marks,\"Grade received is E\")\n",
    "    else:\n",
    "        print(marks,\":invalid marks!!!\")"
   ]
  },
  {
   "cell_type": "code",
   "execution_count": 159,
   "id": "d0e6dc46",
   "metadata": {},
   "outputs": [
    {
     "name": "stdout",
     "output_type": "stream",
     "text": [
      "Marks received is: 71 Grade received is C\n",
      "Marks received is: 61 Grade received is D\n",
      "Marks received is: 100 Grade received is A\n",
      "Marks received is: 70 Grade received is D\n",
      "Marks received is: 36 Grade received is E\n",
      "108 :invalid marks!!!\n",
      "Marks received is: 84 Grade received is B\n"
     ]
    }
   ],
   "source": [
    "mark =[71,61,100,70,36,108,84]\n",
    "for marks in mark:\n",
    "    grade(marks)"
   ]
  },
  {
   "cell_type": "markdown",
   "id": "5765338b",
   "metadata": {},
   "source": [
    "22. Implement a program to determine the type of a triangle based on its angles.\n"
   ]
  },
  {
   "cell_type": "code",
   "execution_count": null,
   "id": "3c711929",
   "metadata": {},
   "outputs": [],
   "source": [
    "eq --> a = b= c\n",
    "iso --> a=b, c\n",
    "scalene -->a,b,c"
   ]
  },
  {
   "cell_type": "code",
   "execution_count": 171,
   "id": "e3f17643",
   "metadata": {},
   "outputs": [],
   "source": [
    "def triangle(a,b,c):\n",
    "    if (a+b+c == 180):\n",
    "        if (a==b==c):\n",
    "            print(\"Equilaterial\")\n",
    "        elif(a==b or b==c or c==a):\n",
    "            print(\"Isosceles\")\n",
    "        else:\n",
    "            print(\"Scalene\")\n",
    "    else:\n",
    "        print(\"Invalid angles\")"
   ]
  },
  {
   "cell_type": "code",
   "execution_count": 172,
   "id": "3caf62fc",
   "metadata": {},
   "outputs": [
    {
     "name": "stdout",
     "output_type": "stream",
     "text": [
      "Invalid angles\n"
     ]
    }
   ],
   "source": [
    "triangle(60,8,8)"
   ]
  },
  {
   "cell_type": "code",
   "execution_count": 174,
   "id": "691e2f52",
   "metadata": {},
   "outputs": [
    {
     "name": "stdout",
     "output_type": "stream",
     "text": [
      "Scalene\n"
     ]
    }
   ],
   "source": [
    "triangle(60,90,30)"
   ]
  },
  {
   "cell_type": "code",
   "execution_count": 175,
   "id": "0274ffb9",
   "metadata": {},
   "outputs": [
    {
     "name": "stdout",
     "output_type": "stream",
     "text": [
      "Isosceles\n"
     ]
    }
   ],
   "source": [
    "triangle(70,70,40)"
   ]
  },
  {
   "cell_type": "markdown",
   "id": "6c69e6c7",
   "metadata": {},
   "source": [
    "\n",
    "23. Develop a program to categorize a given person's BMI into underweight, normal, overweight, or obese using\n",
    "elif statements.\n",
    "\n"
   ]
  },
  {
   "cell_type": "code",
   "execution_count": 183,
   "id": "da2f0200",
   "metadata": {},
   "outputs": [],
   "source": [
    "bmis =[18,20,22,25,28,30,35]"
   ]
  },
  {
   "cell_type": "code",
   "execution_count": 184,
   "id": "e2acc8b3",
   "metadata": {},
   "outputs": [
    {
     "name": "stdout",
     "output_type": "stream",
     "text": [
      "18 You are underweight.\n",
      "20 Your weight is normal.\n",
      "22 Your weight is normal.\n",
      "25 You are overweight.\n",
      "28 You are overweight.\n",
      "30 You are obese.\n",
      "35 You are obese.\n"
     ]
    }
   ],
   "source": [
    "for bmi in bmis:\n",
    "    if bmi <= 18.5:\n",
    "        print(bmi,\"You are underweight.\")\n",
    "    elif 18.5 < bmi <= 24.9:\n",
    "        print(bmi,\"Your weight is normal.\")\n",
    "    elif 25 <= bmi <= 29.29:\n",
    "        print(bmi,\"You are overweight.\")\n",
    "    else:\n",
    "        print(bmi,\"You are obese.\")"
   ]
  },
  {
   "cell_type": "markdown",
   "id": "1fbd4151",
   "metadata": {},
   "source": [
    "24. Create a program that determines whether a given number is positive, negative, or zero using elif\n",
    "statements.\n"
   ]
  },
  {
   "cell_type": "code",
   "execution_count": 186,
   "id": "c92775cd",
   "metadata": {},
   "outputs": [],
   "source": [
    "nums= [10,-1,0,-13]"
   ]
  },
  {
   "cell_type": "code",
   "execution_count": 188,
   "id": "d3063d0d",
   "metadata": {},
   "outputs": [
    {
     "name": "stdout",
     "output_type": "stream",
     "text": [
      "10 is positive\n",
      "-1 is negative\n",
      "0 is zero\n",
      "-13 is negative\n"
     ]
    }
   ],
   "source": [
    "for num in nums:\n",
    "    if num ==0:\n",
    "        print(num, \"is zero\")\n",
    "    elif num <0:\n",
    "        print(num, \"is negative\")\n",
    "    else:\n",
    "        print(num,\"is positive\")"
   ]
  },
  {
   "cell_type": "markdown",
   "id": "8dc62c2d",
   "metadata": {},
   "source": [
    "\n",
    "25. Write a Python script to determine the type of a character (uppercase, lowercase, or special) using elif\n",
    "statements.\n"
   ]
  },
  {
   "cell_type": "code",
   "execution_count": 189,
   "id": "af59417a",
   "metadata": {
    "scrolled": true
   },
   "outputs": [
    {
     "name": "stdout",
     "output_type": "stream",
     "text": [
      "h is a lower case\n",
      "u is a lower case\n",
      "j is a lower case\n",
      "R is uppercase\n",
      "^ is a Special Character\n",
      "8 is a digit\n",
      "9 is a digit\n",
      "L is uppercase\n",
      "/ is a Special Character\n"
     ]
    }
   ],
   "source": [
    "strings= \"hujR^89L/\"\n",
    "for i in strings:\n",
    "    if i in \"abcdefghijklmnopqrstuvwxyz\":\n",
    "        print(i,\"is a lower case\")\n",
    "    elif i in \"ABCDEFGHIJKLMNOPQRSTUVWXYZ\":\n",
    "        print(i,\"is uppercase\")\n",
    "    elif i in \"1234567890\":\n",
    "        print(i, \"is a digit\")\n",
    "    else:\n",
    "        print(i,\"is a Special Character\")"
   ]
  },
  {
   "cell_type": "code",
   "execution_count": 197,
   "id": "fa57f078",
   "metadata": {},
   "outputs": [
    {
     "name": "stdout",
     "output_type": "stream",
     "text": [
      "h lower\n",
      "u lower\n",
      "j lower\n",
      "R upper\n",
      "^ special\n",
      "8 Number\n",
      "9 Number\n",
      "L upper\n",
      "/ special\n"
     ]
    }
   ],
   "source": [
    "strings= \"hujR^89L/\"\n",
    "for i in strings:\n",
    "    if i.isupper():\n",
    "        print(i, \"upper\")\n",
    "    elif i.islower():\n",
    "        print(i, \"lower\")\n",
    "    elif i.isnumeric():\n",
    "        print(i, \"Number\")\n",
    "    else:\n",
    "        print(i,\"special\")"
   ]
  },
  {
   "cell_type": "markdown",
   "id": "1ac507bc",
   "metadata": {},
   "source": [
    "\n",
    "26. Implement a program to calculate the discounted price based on different purchase amounts using elif\n",
    "statements.\n"
   ]
  },
  {
   "cell_type": "raw",
   "id": "8861a423",
   "metadata": {},
   "source": [
    "If purchase>100 -- 10% discount is applied\n",
    "If purchase>200 -- 20% discount is applied\n",
    "If purchase>300 -- 30% discount is applied\n",
    "If purchase>400 -- 40% discount is applied\n",
    "If purchase>500 -- gift hanper"
   ]
  },
  {
   "cell_type": "code",
   "execution_count": 220,
   "id": "eed9041f",
   "metadata": {},
   "outputs": [
    {
     "name": "stdout",
     "output_type": "stream",
     "text": [
      "Purchasing Price is 60 Discount offered is 10%.Discounted Price is 54.0\n",
      "Purchasing Price is 100 Discount offered is 10%.Discounted Price is 90.0\n",
      "Purchasing Price is 166 Discount offered is 20%.Discounted Price is 132.8\n",
      "Purchasing Price is 217 Discount offered is 30%.Discounted Price is 151.9\n",
      "Purchasing Price is 378 Discount offered is 40%.Discounted Price is 226.79999999999998\n",
      "Hurray!!You win a GIFT HAMPER!!!\n"
     ]
    }
   ],
   "source": [
    "purchases =[60,100,166,217,378,400]\n",
    "for purchase in purchases:\n",
    "    if 50<purchase <= 100:\n",
    "        dis = purchase-(purchase*0.1)\n",
    "        print(\"Purchasing Price is\", purchase, \"Discount offered is 10%.Discounted Price is\", dis)\n",
    "    elif purchase<200:\n",
    "        dis = purchase-(purchase*0.2)\n",
    "        print(\"Purchasing Price is\", purchase, \"Discount offered is 20%.Discounted Price is\", dis)\n",
    "    elif purchase<300:\n",
    "        dis = purchase-(purchase*0.3)\n",
    "        print(\"Purchasing Price is\", purchase, \"Discount offered is 30%.Discounted Price is\", dis)\n",
    "    elif purchase<400:\n",
    "        dis = purchase-(purchase*0.4)\n",
    "        print(\"Purchasing Price is\", purchase, \"Discount offered is 40%.Discounted Price is\", dis)\n",
    "    else:\n",
    "        print(\"Hurray!!You win a GIFT HAMPER!!!\")"
   ]
  },
  {
   "cell_type": "markdown",
   "id": "503f77ad",
   "metadata": {},
   "source": [
    "\n",
    "27. Develop a program to calculate the electricity bill based on different consumption slabs using elif\n",
    "statements.\n"
   ]
  },
  {
   "cell_type": "code",
   "execution_count": null,
   "id": "f996c857",
   "metadata": {},
   "outputs": [],
   "source": [
    "1 to 100 units – Rs. 10/unit\n",
    "101 to 200 units – Rs. 15/unit\n",
    "201 to 300 units – Rs. 20/unit\n",
    "above 300 units – Rs. 25/unit"
   ]
  },
  {
   "cell_type": "code",
   "execution_count": 233,
   "id": "37da2ac0",
   "metadata": {},
   "outputs": [],
   "source": [
    "units = [0,90,145,245,345]"
   ]
  },
  {
   "cell_type": "code",
   "execution_count": 234,
   "id": "2178211d",
   "metadata": {},
   "outputs": [
    {
     "name": "stdout",
     "output_type": "stream",
     "text": [
      "units comsumed: 0 electricity bill: 0 rs\n",
      "units comsumed: 90 electricity bill: 900 rs\n",
      "units comsumed: 145 electricity bill: 1675 rs\n",
      "units comsumed: 245 electricity bill: 5400 rs\n",
      "units comsumed: 345 electricity bill: 10625 rs\n"
     ]
    }
   ],
   "source": [
    "for unit in units:\n",
    "    if unit<= 100:\n",
    "        bill = unit*10\n",
    "        print(\"units comsumed:\",unit,\"electricity bill:\",bill,\"rs\")\n",
    "    elif 100 < unit <=200:\n",
    "        bill = 100*10 +(unit-100)*15\n",
    "        print(\"units comsumed:\",unit,\"electricity bill:\",bill,\"rs\")\n",
    "    elif 200 < unit <=300:\n",
    "        bill = 100*10 +100*15+(unit-100)*20\n",
    "        print(\"units comsumed:\",unit,\"electricity bill:\",bill,\"rs\")\n",
    "    elif  unit >=300:\n",
    "        bill = 100*10 +100*15+100*20+(unit-100)*25\n",
    "        print(\"units comsumed:\",unit,\"electricity bill:\",bill,\"rs\")"
   ]
  },
  {
   "cell_type": "markdown",
   "id": "d4adf753",
   "metadata": {},
   "source": [
    "\n",
    "28. Create a program to determine the type of quadrilateral based on its angles and sides using elif\n",
    "statements.\n"
   ]
  },
  {
   "cell_type": "raw",
   "id": "63249401",
   "metadata": {},
   "source": [
    "Quadrilateral Types:\n",
    "Trapezium -\n",
    "Parallelogram-           oposite sides are equal\n",
    "Rectangle- angles 90 and opposite sides equal\n",
    "Rhombus             all sides equal\n",
    "Square- angels 90, all sides equal\n",
    "Kite -            adjecent sides are equal"
   ]
  },
  {
   "cell_type": "raw",
   "id": "33f51984",
   "metadata": {},
   "source": [
    "angles = a,bc,d\n",
    "sides = s1,s2,s3,s4"
   ]
  },
  {
   "cell_type": "code",
   "execution_count": 270,
   "id": "dd78c42d",
   "metadata": {},
   "outputs": [],
   "source": [
    "def quadrilateral(a,b,c,d, s1,s2,s3,s4):\n",
    "    if a+b+c+d == 360:\n",
    "        #print(\"It is a quadrilateral\")\n",
    "        \n",
    "        if (s1==s2==s3==s4): #all sides are equal \n",
    "            if (a==b==c==d): #all angles are equal\n",
    "                print(\"it is a square\")\n",
    "            else:\n",
    "                print(\"it is a Rhombus\")\n",
    "        \n",
    "        \n",
    "        elif (s1==s3 and s2==s4): #opposite sides are equal\n",
    "            if (a==b==c==d): #all angles are equal\n",
    "                print(\"it is a Rectangle\")\n",
    "            else:\n",
    "                print(\"it is a Parallelogram\")\n",
    "        \n",
    "        elif (s1==s2 and s3== s4) or (s1==s4 and s2==s3):\n",
    "            print(\"it is a Kite\")\n",
    "        \n",
    "        \n",
    "        else:\n",
    "            print(\"it is a trapezium\")\n",
    "    \n",
    "    else:\n",
    "        print(\"not a quadrilateral\")"
   ]
  },
  {
   "cell_type": "code",
   "execution_count": 271,
   "id": "ccde411d",
   "metadata": {},
   "outputs": [
    {
     "name": "stdout",
     "output_type": "stream",
     "text": [
      "it is a Parallelogram\n"
     ]
    }
   ],
   "source": [
    "quadrilateral(30,60,90,180,3,5,3,5)"
   ]
  },
  {
   "cell_type": "code",
   "execution_count": 272,
   "id": "2c039bb5",
   "metadata": {},
   "outputs": [
    {
     "name": "stdout",
     "output_type": "stream",
     "text": [
      "it is a Rectangle\n"
     ]
    }
   ],
   "source": [
    "quadrilateral(90,90,90,90,3,5,3,5)"
   ]
  },
  {
   "cell_type": "code",
   "execution_count": 273,
   "id": "0a019958",
   "metadata": {},
   "outputs": [
    {
     "name": "stdout",
     "output_type": "stream",
     "text": [
      "it is a trapezium\n"
     ]
    }
   ],
   "source": [
    "quadrilateral(90,90,90,90,3,1,3,3)"
   ]
  },
  {
   "cell_type": "code",
   "execution_count": 274,
   "id": "3b793d0d",
   "metadata": {},
   "outputs": [
    {
     "name": "stdout",
     "output_type": "stream",
     "text": [
      "not a quadrilateral\n"
     ]
    }
   ],
   "source": [
    "quadrilateral(30,60,60,180,3,5,3,5)"
   ]
  },
  {
   "cell_type": "code",
   "execution_count": 275,
   "id": "15699b7b",
   "metadata": {},
   "outputs": [
    {
     "name": "stdout",
     "output_type": "stream",
     "text": [
      "it is a Kite\n"
     ]
    }
   ],
   "source": [
    "quadrilateral(30,150,150,30,3,3,5,5)"
   ]
  },
  {
   "cell_type": "markdown",
   "id": "e1f6153b",
   "metadata": {},
   "source": [
    "\n",
    "29. Write a Python script to determine the season based on a user-provided month using elif statements.\n"
   ]
  },
  {
   "cell_type": "raw",
   "id": "df9c39ab",
   "metadata": {},
   "source": [
    " Dec,Jan, Feb: 'WINTER',\n",
    "mar, april,may:\"spring\"\n",
    "June, july, aug : \"summer\"  \n",
    " sept,oct,nov =\"fall\"  "
   ]
  },
  {
   "cell_type": "code",
   "execution_count": 286,
   "id": "d63aead3",
   "metadata": {},
   "outputs": [],
   "source": [
    "months = [\"jan\",\"mar\",\"may\",\"aug\",\"sept\"]"
   ]
  },
  {
   "cell_type": "code",
   "execution_count": 287,
   "id": "d220d118",
   "metadata": {},
   "outputs": [],
   "source": [
    "def season(month):\n",
    "    if month in [\"dec\",\"jan\",\"feb\"]:\n",
    "        print(month,\"WINTER\")\n",
    "    elif month in [\"mar\",\"apr\",\"may\"]:\n",
    "        print(month,\"SPRING\")\n",
    "    elif month in [\"jun\",\"july\",\"aug\"]:\n",
    "        print(month,\"SUMMER\")\n",
    "    elif month in [\"sept\",\"oct\",\"nov\"]:\n",
    "        print(month,\"FALL\")\n",
    "    else:\n",
    "        print(month,\"Enter a valid month\")\n",
    "    "
   ]
  },
  {
   "cell_type": "code",
   "execution_count": 288,
   "id": "41634d0f",
   "metadata": {},
   "outputs": [
    {
     "name": "stdout",
     "output_type": "stream",
     "text": [
      "jan WINTER\n",
      "mar SPRING\n",
      "may SPRING\n",
      "aug SUMMER\n",
      "sept FALL\n",
      "june Enter a valid month\n"
     ]
    }
   ],
   "source": [
    "for month in months:\n",
    "    season(month)"
   ]
  },
  {
   "cell_type": "markdown",
   "id": "21a266d5",
   "metadata": {},
   "source": [
    "\n",
    "30. Implement a program to determine the type of a year (leap or common) and month (30 or 31 days) using\n",
    "elif statements."
   ]
  },
  {
   "cell_type": "code",
   "execution_count": null,
   "id": "d7d75536",
   "metadata": {},
   "outputs": [],
   "source": [
    "#A leap year is exactly divisible by 4 except for century years (years ending with 00). \n",
    "#The century year is a leap year only if it is perfectly divisible by 400."
   ]
  },
  {
   "cell_type": "code",
   "execution_count": 51,
   "id": "027df4bb",
   "metadata": {},
   "outputs": [],
   "source": [
    "def leap_month(year, month):\n",
    "    if((month==2) and (year%400 ==0 or year%100 !=0 and year%4 ==0)) :\n",
    "        print(year,\"It is a leap year.February has 29 days\");\n",
    "\n",
    "    elif (month ==2):\n",
    "        print(\"It is not a leap year.February has 29 days\");\n",
    "\n",
    "    elif(month==1 or month==3 or month==5 or month==7 or month==8 or month==10 or month==12) :\n",
    "        print(\"Number of days in a month is 31\");\n",
    "\n",
    "    elif (month==4 or month==6 or month==9 or month==11):\n",
    "        print(\"Number of days in a month is 30\");\n",
    "        \n",
    "        "
   ]
  },
  {
   "cell_type": "code",
   "execution_count": 54,
   "id": "fa470c2a",
   "metadata": {
    "scrolled": true
   },
   "outputs": [
    {
     "name": "stdout",
     "output_type": "stream",
     "text": [
      "2000 It is a leap year.February has 29 days\n"
     ]
    }
   ],
   "source": [
    "leap_month(2000,2)"
   ]
  },
  {
   "cell_type": "code",
   "execution_count": 55,
   "id": "e1c1bc9b",
   "metadata": {},
   "outputs": [
    {
     "name": "stdout",
     "output_type": "stream",
     "text": [
      "Number of days in a month is 31\n"
     ]
    }
   ],
   "source": [
    "leap_month(1700,3)"
   ]
  },
  {
   "cell_type": "markdown",
   "id": "3dfa8cd4",
   "metadata": {},
   "source": [
    "# Basic Level:"
   ]
  },
  {
   "cell_type": "markdown",
   "id": "0f568c75",
   "metadata": {},
   "source": [
    "\n",
    "\n",
    "1. Write a Python program that checks if a given number is positive, negative, or zero.\n",
    "\n"
   ]
  },
  {
   "cell_type": "code",
   "execution_count": 294,
   "id": "254f803e",
   "metadata": {},
   "outputs": [],
   "source": [
    "def check(num):\n",
    "    if num > 0:\n",
    "        return num, \"is Positive\"\n",
    "    elif num <0:\n",
    "        return num, \"is Negative\"\n",
    "    else:\n",
    "        return \"Num is Zero\""
   ]
  },
  {
   "cell_type": "code",
   "execution_count": 296,
   "id": "1e1d983b",
   "metadata": {},
   "outputs": [
    {
     "name": "stdout",
     "output_type": "stream",
     "text": [
      "(9, 'is Positive')\n",
      "Num is Zero\n",
      "(-1, 'is Negative')\n"
     ]
    }
   ],
   "source": [
    "for num in [9,0,-1]:\n",
    "    print(check(num))"
   ]
  },
  {
   "cell_type": "markdown",
   "id": "2b3aebb1",
   "metadata": {},
   "source": [
    "\n",
    "2. Create a program to determine if a person is eligible to vote based on their age.\n"
   ]
  },
  {
   "cell_type": "code",
   "execution_count": 299,
   "id": "f579e407",
   "metadata": {},
   "outputs": [],
   "source": [
    "def vote(age):\n",
    "    if age > 18:\n",
    "        print(age,\"person is eligible to vote\")\n",
    "    else:\n",
    "        print(age,\"person isnt eligible to vote\")"
   ]
  },
  {
   "cell_type": "code",
   "execution_count": 300,
   "id": "86afd2c1",
   "metadata": {},
   "outputs": [
    {
     "name": "stdout",
     "output_type": "stream",
     "text": [
      "10 person isnt eligible to vote\n",
      "20 person is eligible to vote\n",
      "40 person is eligible to vote\n"
     ]
    }
   ],
   "source": [
    "for a in [10, 20,40]:\n",
    "    vote(a)"
   ]
  },
  {
   "cell_type": "markdown",
   "id": "49227448",
   "metadata": {},
   "source": [
    "\n",
    "3. Write a program to find the maximum of two given numbers using conditional statements.\n"
   ]
  },
  {
   "cell_type": "code",
   "execution_count": 317,
   "id": "92cd953e",
   "metadata": {},
   "outputs": [],
   "source": [
    "def maximum(num1,num2):\n",
    "    if num1 >num2:\n",
    "        return num1,num2, \"Maximum is\",num1\n",
    "    elif num2>num1:\n",
    "        return num1, num2, \"Maximum is\",num2\n",
    "    else:\n",
    "        return num1,\"and\",num2, \"are equal\""
   ]
  },
  {
   "cell_type": "code",
   "execution_count": 320,
   "id": "b08cd07c",
   "metadata": {},
   "outputs": [
    {
     "name": "stdout",
     "output_type": "stream",
     "text": [
      "(4, 10, 'Maximum is', 10)\n",
      "(4, 40, 'Maximum is', 40)\n",
      "(4, 1, 'Maximum is', 4)\n",
      "(5, 10, 'Maximum is', 10)\n",
      "(5, 40, 'Maximum is', 40)\n",
      "(5, 1, 'Maximum is', 5)\n",
      "(1, 10, 'Maximum is', 10)\n",
      "(1, 40, 'Maximum is', 40)\n",
      "(1, 'and', 1, 'are equal')\n"
     ]
    }
   ],
   "source": [
    "for i in [4,5,1]:\n",
    "    for j in [10,40,1]:\n",
    "        print(maximum(i,j))"
   ]
  },
  {
   "cell_type": "markdown",
   "id": "86f7b025",
   "metadata": {},
   "source": [
    "\n",
    "4. Develop a program that calculates the grade of a student based on their exam score.\n"
   ]
  },
  {
   "cell_type": "raw",
   "id": "cd053346",
   "metadata": {},
   "source": [
    "91 to 100   A\n",
    "81 to 90\tB\n",
    "71 to 80\tC\n",
    "61 to 70\tD\n",
    "Below 60\tE"
   ]
  },
  {
   "cell_type": "code",
   "execution_count": 322,
   "id": "051d014f",
   "metadata": {},
   "outputs": [],
   "source": [
    "def grade(marks):\n",
    "    if 90 < marks <=100:\n",
    "        print(\"Marks received is:\",marks,\"Grade received is A\")\n",
    "    elif (81<= marks<=90):\n",
    "        print(\"Marks received is:\",marks,\"Grade received is B\")\n",
    "    elif (71<= marks<=80):\n",
    "        print(\"Marks received is:\",marks,\"Grade received is C\")\n",
    "    elif (61<= marks<=70):\n",
    "        print(\"Marks received is:\",marks,\"Grade received is D\")\n",
    "    elif (marks<60):\n",
    "        print(\"Marks received is:\",marks,\"Grade received is E\")\n",
    "    else:\n",
    "        print(marks,\":invalid marks!!!\")"
   ]
  },
  {
   "cell_type": "code",
   "execution_count": 323,
   "id": "e44d9542",
   "metadata": {},
   "outputs": [
    {
     "name": "stdout",
     "output_type": "stream",
     "text": [
      "Marks received is: 71 Grade received is C\n",
      "Marks received is: 61 Grade received is D\n",
      "Marks received is: 100 Grade received is A\n",
      "Marks received is: 70 Grade received is D\n",
      "Marks received is: 36 Grade received is E\n",
      "108 :invalid marks!!!\n",
      "Marks received is: 84 Grade received is B\n"
     ]
    }
   ],
   "source": [
    "mark =[71,61,100,70,36,108,84]\n",
    "for marks in mark:\n",
    "    grade(marks)"
   ]
  },
  {
   "cell_type": "code",
   "execution_count": null,
   "id": "4f5c147b",
   "metadata": {},
   "outputs": [],
   "source": []
  },
  {
   "cell_type": "markdown",
   "id": "e984c083",
   "metadata": {},
   "source": [
    "\n",
    "5. Create a program that checks if a year is a leap year or not.\n"
   ]
  },
  {
   "cell_type": "raw",
   "id": "8057745c",
   "metadata": {},
   "source": [
    "\n",
    "#A leap year is exactly divisible by 4 except for century years (years ending with 00). \n",
    "#The century year is a leap year only if it is perfectly divisible by 400.\n"
   ]
  },
  {
   "cell_type": "code",
   "execution_count": 321,
   "id": "12c1b9d7",
   "metadata": {},
   "outputs": [
    {
     "name": "stdout",
     "output_type": "stream",
     "text": [
      "1900 is Not a Leap Year\n",
      "2017 is Not a Leap Year\n",
      "2012 is a Leap Year\n",
      "2014 is Not a Leap Year\n",
      "1016 is a Leap Year\n",
      "2000 is a Leap Year\n"
     ]
    }
   ],
   "source": [
    "years = [1900,2017,2012,2014,1016,2000]\n",
    "for year in years:\n",
    "    if (year % 100 ==0 and year % 400== 0):#century year is a leap year\n",
    "        print(year,\"is a Leap Year\")\n",
    "    elif (year % 100 !=0 and year % 4 ==0):#non century year  is a leap year\n",
    "        print(year, \"is a Leap Year\")\n",
    "    else:\n",
    "        print(year,\"is Not a Leap Year\")"
   ]
  },
  {
   "cell_type": "markdown",
   "id": "50c4f30c",
   "metadata": {},
   "source": [
    "\n",
    "6. Write a program to classify a triangle based on its sides' lengths.\n"
   ]
  },
  {
   "cell_type": "code",
   "execution_count": 332,
   "id": "85b1a994",
   "metadata": {},
   "outputs": [],
   "source": [
    "def triangle(a,b,c):\n",
    "    if (a==b==c):\n",
    "        print(\"Sides are:\",a,b,c,\"Equilaterial\")\n",
    "    elif(a==b or b==c or c==a):\n",
    "        print(\"Sides are:\",a,b,c,\"Isosceles\")\n",
    "    else:\n",
    "        print(\"Sides are:\",a,b,c,\"Scalene\")"
   ]
  },
  {
   "cell_type": "code",
   "execution_count": 347,
   "id": "0bfbf6ee",
   "metadata": {},
   "outputs": [
    {
     "name": "stdout",
     "output_type": "stream",
     "text": [
      "Sides are: 1 1 1 Equilaterial\n",
      "Sides are: 1 1 2 Isosceles\n",
      "Sides are: 1 2 1 Isosceles\n",
      "Sides are: 1 2 2 Isosceles\n",
      "Sides are: 2 1 1 Isosceles\n",
      "Sides are: 2 1 2 Isosceles\n",
      "Sides are: 2 2 1 Isosceles\n",
      "Sides are: 2 2 2 Equilaterial\n",
      "Sides are: 3 1 1 Isosceles\n",
      "Sides are: 3 1 2 Scalene\n",
      "Sides are: 3 2 1 Scalene\n",
      "Sides are: 3 2 2 Isosceles\n",
      "Sides are: 4 1 1 Isosceles\n",
      "Sides are: 4 1 2 Scalene\n",
      "Sides are: 4 2 1 Scalene\n",
      "Sides are: 4 2 2 Isosceles\n"
     ]
    }
   ],
   "source": [
    "for i in range(1,5):\n",
    "    for j in range(1,3):\n",
    "        for k in range(1,3):\n",
    "            triangle(i,j,k)"
   ]
  },
  {
   "cell_type": "markdown",
   "id": "76f3caf8",
   "metadata": {},
   "source": [
    "\n",
    "7. Build a program that determines the largest of three given numbers.\n"
   ]
  },
  {
   "cell_type": "code",
   "execution_count": 353,
   "id": "2edc35f9",
   "metadata": {},
   "outputs": [],
   "source": [
    "def largest(a,b,c):\n",
    "    if (a> b and a>c):\n",
    "        print(a,b,c,\"The largest is:\", a)\n",
    "    elif(b>a and b>c):\n",
    "        print(a,b,c,\"The largest is:\", b)\n",
    "    elif(c>a and c>b):\n",
    "        print(a,b,c,\"The largest is:\", c)\n",
    "    else:\n",
    "        print(a,b,c,\"numbers are equal\")\n",
    "    "
   ]
  },
  {
   "cell_type": "code",
   "execution_count": 354,
   "id": "2008402e",
   "metadata": {},
   "outputs": [
    {
     "name": "stdout",
     "output_type": "stream",
     "text": [
      "1 1 1 numbers are equal\n",
      "1 1 2 The largest is: 2\n",
      "1 2 1 The largest is: 2\n",
      "1 2 2 numbers are equal\n",
      "2 1 1 The largest is: 2\n",
      "2 1 2 numbers are equal\n",
      "2 2 1 numbers are equal\n",
      "2 2 2 numbers are equal\n",
      "3 1 1 The largest is: 3\n",
      "3 1 2 The largest is: 3\n",
      "3 2 1 The largest is: 3\n",
      "3 2 2 The largest is: 3\n",
      "4 1 1 The largest is: 4\n",
      "4 1 2 The largest is: 4\n",
      "4 2 1 The largest is: 4\n",
      "4 2 2 The largest is: 4\n"
     ]
    }
   ],
   "source": [
    "for a in range(1,5):\n",
    "    for b in range(1,3):\n",
    "        for c in range(1,3):\n",
    "            largest(a,b,c)"
   ]
  },
  {
   "cell_type": "markdown",
   "id": "0064f502",
   "metadata": {},
   "source": [
    "\n",
    "8. Develop a program that checks whether a character is a vowel or a consonant.\n"
   ]
  },
  {
   "cell_type": "code",
   "execution_count": 358,
   "id": "97e5068a",
   "metadata": {},
   "outputs": [],
   "source": [
    "def check(x):\n",
    "    if x in \"aeiouAEIOU\":\n",
    "        return x,\"It is a Vowel\"\n",
    "    else:\n",
    "        return x,\"It is a Consonant\"\n",
    "    "
   ]
  },
  {
   "cell_type": "code",
   "execution_count": 362,
   "id": "731a1494",
   "metadata": {
    "scrolled": true
   },
   "outputs": [
    {
     "name": "stdout",
     "output_type": "stream",
     "text": [
      "('U', 'It is a Vowel')\n",
      "('K', 'It is a Consonant')\n",
      "('r', 'It is a Consonant')\n",
      "('A', 'It is a Vowel')\n",
      "('n', 'It is a Consonant')\n",
      "('t', 'It is a Consonant')\n",
      "('i', 'It is a Vowel')\n",
      "('W', 'It is a Consonant')\n"
     ]
    }
   ],
   "source": [
    "for i in \"UKrAntiW\":\n",
    "    print(check(i))"
   ]
  },
  {
   "cell_type": "markdown",
   "id": "7a7feb11",
   "metadata": {},
   "source": [
    "\n",
    "9. Create a program to calculate the total cost of a shopping cart based on discounts.\n"
   ]
  },
  {
   "cell_type": "raw",
   "id": "b0cda084",
   "metadata": {},
   "source": [
    "If purchase>100 -- 10% discount is applied\n",
    "If purchase>200 -- 20% discount is applied\n",
    "If purchase>300 -- 30% discount is applied\n",
    "If purchase>400 -- 40% discount is applied\n",
    "If purchase>500 -- gift hanper"
   ]
  },
  {
   "cell_type": "code",
   "execution_count": 376,
   "id": "987105ce",
   "metadata": {},
   "outputs": [
    {
     "name": "stdout",
     "output_type": "stream",
     "text": [
      "Cashback of 200\n"
     ]
    },
    {
     "data": {
      "text/plain": [
       "[54.0, 90.0, 132.8, 151.9, 226.79999999999998, 240.0, -200]"
      ]
     },
     "execution_count": 376,
     "metadata": {},
     "output_type": "execute_result"
    }
   ],
   "source": [
    "discounted_prices =[]\n",
    "purchases =[60,100,166,217,378,400, 700]\n",
    "for purchase in purchases:\n",
    "    if 50<purchase <= 100:\n",
    "        dis = purchase-(purchase*0.1)\n",
    "        discounted_prices.append(dis)\n",
    "    elif purchase<200:\n",
    "        dis = purchase-(purchase*0.2)\n",
    "        discounted_prices.append(dis)\n",
    "        \n",
    "    elif purchase<300:\n",
    "        dis = purchase-(purchase*0.3)\n",
    "        discounted_prices.append(dis)\n",
    "        \n",
    "    elif purchase<=400:\n",
    "        dis = purchase-(purchase*0.4)\n",
    "        discounted_prices.append(dis)\n",
    "        \n",
    "    else:\n",
    "        print(\"Cashback of 200\")\n",
    "        discounted_prices.append(-200)\n",
    "\n",
    "discounted_prices"
   ]
  },
  {
   "cell_type": "code",
   "execution_count": 378,
   "id": "f735970d",
   "metadata": {},
   "outputs": [
    {
     "data": {
      "text/plain": [
       "695.5"
      ]
     },
     "execution_count": 378,
     "metadata": {},
     "output_type": "execute_result"
    }
   ],
   "source": [
    "total_cost= sum([i for i in discounted_prices])\n",
    "total_cost"
   ]
  },
  {
   "cell_type": "markdown",
   "id": "ca9dbefb",
   "metadata": {},
   "source": [
    "\n",
    "10. Write a program that checks if a given number is even or odd."
   ]
  },
  {
   "cell_type": "code",
   "execution_count": 365,
   "id": "670e1d46",
   "metadata": {},
   "outputs": [],
   "source": [
    "def even_odd(num):\n",
    "    if num %2 == 0:\n",
    "        return num, \"is even\"\n",
    "    else:\n",
    "        return num, \"is Odd\""
   ]
  },
  {
   "cell_type": "code",
   "execution_count": 367,
   "id": "92a9898b",
   "metadata": {},
   "outputs": [
    {
     "name": "stdout",
     "output_type": "stream",
     "text": [
      "(4, 'is even')\n",
      "(5, 'is Odd')\n",
      "(6, 'is even')\n",
      "(7, 'is Odd')\n",
      "(8, 'is even')\n",
      "(9, 'is Odd')\n",
      "(10, 'is even')\n",
      "(11, 'is Odd')\n",
      "(12, 'is even')\n",
      "(13, 'is Odd')\n"
     ]
    }
   ],
   "source": [
    "for i in range(4,14):\n",
    "    print(even_odd(i))"
   ]
  },
  {
   "cell_type": "markdown",
   "id": "74a0814f",
   "metadata": {},
   "source": [
    "# Intermediate Level:"
   ]
  },
  {
   "cell_type": "markdown",
   "id": "f1bed602",
   "metadata": {},
   "source": [
    "\n",
    "11. Write a program that calculates the roots of a quadratic equation ."
   ]
  },
  {
   "cell_type": "code",
   "execution_count": null,
   "id": "2d669ad8",
   "metadata": {},
   "outputs": [],
   "source": []
  },
  {
   "cell_type": "code",
   "execution_count": null,
   "id": "2a58cbbe",
   "metadata": {},
   "outputs": [],
   "source": []
  },
  {
   "cell_type": "markdown",
   "id": "fcb3b4fd",
   "metadata": {},
   "source": [
    "12. Create a program that determines the day of the week based on the day number (1-7)."
   ]
  },
  {
   "cell_type": "code",
   "execution_count": 386,
   "id": "d4466dcb",
   "metadata": {},
   "outputs": [],
   "source": [
    "def week(day):\n",
    "    if day ==1:\n",
    "        return day,\"Monday\"\n",
    "    elif day ==2:\n",
    "        return day,\"Tuesday\"\n",
    "    elif day ==3:\n",
    "        return day,\"Wednesday\"\n",
    "    elif day ==4:\n",
    "        return day,\"Thursday\"\n",
    "    elif day ==5:\n",
    "        return day,\"Friday\"\n",
    "    elif day ==6:\n",
    "        return day,\"Saturday\"\n",
    "    elif day ==7:\n",
    "        return day,\"Sunday\"\n",
    "    else:\n",
    "        return day,\"Number Out Of Range(1-7)\""
   ]
  },
  {
   "cell_type": "code",
   "execution_count": 387,
   "id": "2eda454e",
   "metadata": {},
   "outputs": [
    {
     "name": "stdout",
     "output_type": "stream",
     "text": [
      "(5, 'Friday')\n",
      "(7, 'Sunday')\n",
      "(0, 'Number Out Of Range(1-7)')\n",
      "(1, 'Monday')\n",
      "(4, 'Thursday')\n"
     ]
    }
   ],
   "source": [
    "for i in [5,7,0,1,4]:\n",
    "    print(week(i))"
   ]
  },
  {
   "cell_type": "markdown",
   "id": "4c1227cf",
   "metadata": {},
   "source": [
    "13. Develop a program that calculates the factorial of a given number using recursion."
   ]
  },
  {
   "cell_type": "code",
   "execution_count": 137,
   "id": "0e664eaf",
   "metadata": {},
   "outputs": [],
   "source": [
    "def factorial(num):\n",
    "    if num ==1 or num ==0:\n",
    "        return 1\n",
    "    else:\n",
    "        return (num * factorial(num-1))\n",
    "    "
   ]
  },
  {
   "cell_type": "code",
   "execution_count": 138,
   "id": "37aff2bf",
   "metadata": {},
   "outputs": [
    {
     "data": {
      "text/plain": [
       "120"
      ]
     },
     "execution_count": 138,
     "metadata": {},
     "output_type": "execute_result"
    }
   ],
   "source": [
    "factorial(5)"
   ]
  },
  {
   "cell_type": "code",
   "execution_count": null,
   "id": "5ee35a09",
   "metadata": {},
   "outputs": [],
   "source": []
  },
  {
   "cell_type": "markdown",
   "id": "b7849de1",
   "metadata": {},
   "source": [
    "\n",
    "14. Write a program to find the largest among three numbers without using the `max()` function."
   ]
  },
  {
   "cell_type": "code",
   "execution_count": 264,
   "id": "2114341a",
   "metadata": {},
   "outputs": [],
   "source": [
    "num1, num2, num3 = 1,5,2"
   ]
  },
  {
   "cell_type": "code",
   "execution_count": 265,
   "id": "0bdad9ee",
   "metadata": {},
   "outputs": [
    {
     "name": "stdout",
     "output_type": "stream",
     "text": [
      "5 is the largest\n"
     ]
    }
   ],
   "source": [
    "if num1> num2 and num1> num3:\n",
    "    print(num1, \"is the largest\")\n",
    "elif num2> num1 and num2> num3:\n",
    "    print(num2, \"is the largest\")\n",
    "else:\n",
    "    print(num3, \"is the largest\")\n",
    "    "
   ]
  },
  {
   "cell_type": "markdown",
   "id": "5053a8f2",
   "metadata": {},
   "source": [
    "\n",
    "15. Create a program that simulates a basic ATM transaction menu.\n"
   ]
  },
  {
   "cell_type": "code",
   "execution_count": 2,
   "id": "2d27b436",
   "metadata": {},
   "outputs": [
    {
     "name": "stdout",
     "output_type": "stream",
     "text": [
      "Enter the 4 digit pin:3456\n",
      "Wrong Pin entered 3 trails left\n",
      "Enter the 4 digit pin:5678\n",
      "Wrong Pin entered 2 trails left\n",
      "Enter the 4 digit pin:1234\n",
      "Welcome to MYBANK ATM!!!!!!\n"
     ]
    }
   ],
   "source": [
    "trials = 4\n",
    "userpin = 1234\n",
    "\n",
    "\n",
    "\n",
    "while trials !=0:\n",
    "    pin = int(input(\"Enter the 4 digit pin:\"))   \n",
    "    if userpin !=pin:\n",
    "        trials = trials -1\n",
    "        print(\"Wrong Pin entered\",trials, \"trails left\")\n",
    "    else:\n",
    "        print(\"Welcome to MYBANK ATM!!!!!!\")\n",
    "        break"
   ]
  },
  {
   "cell_type": "code",
   "execution_count": null,
   "id": "bc16ec4c",
   "metadata": {},
   "outputs": [],
   "source": []
  },
  {
   "cell_type": "markdown",
   "id": "66e6c4ee",
   "metadata": {},
   "source": [
    "\n",
    "16. Build a program that checks if a given string is a palindrome or not.\n"
   ]
  },
  {
   "cell_type": "code",
   "execution_count": 11,
   "id": "d363101a",
   "metadata": {},
   "outputs": [],
   "source": [
    "strings = [\"madam\", \"cool\", \"poyop\",\"look\"]"
   ]
  },
  {
   "cell_type": "code",
   "execution_count": 18,
   "id": "4c3d8dcf",
   "metadata": {},
   "outputs": [],
   "source": [
    "def palindrome(string):\n",
    "    if list(string[::-1]) == list(string):\n",
    "        return string, \"is Palindrome\"\n",
    "    else:\n",
    "        return string, \"isNt Palindrome\""
   ]
  },
  {
   "cell_type": "code",
   "execution_count": 19,
   "id": "a1e4e23a",
   "metadata": {},
   "outputs": [
    {
     "name": "stdout",
     "output_type": "stream",
     "text": [
      "('madam', 'is Palindrome')\n",
      "('cool', 'isNt Palindrome')\n",
      "('poyop', 'is Palindrome')\n",
      "('look', 'isNt Palindrome')\n"
     ]
    }
   ],
   "source": [
    "for string in strings:\n",
    "    print(palindrome(string))"
   ]
  },
  {
   "cell_type": "markdown",
   "id": "f80bdaf5",
   "metadata": {},
   "source": [
    "\n",
    "17. Write a program that calculates the average of a list of numbers, excluding the smallest and largest values.\n"
   ]
  },
  {
   "cell_type": "code",
   "execution_count": 38,
   "id": "17eea74c",
   "metadata": {
    "scrolled": true
   },
   "outputs": [
    {
     "data": {
      "text/plain": [
       "[3, 6, 9, 12, 15, 18, 21, 24]"
      ]
     },
     "execution_count": 38,
     "metadata": {},
     "output_type": "execute_result"
    }
   ],
   "source": [
    "list1 = [i for i in range(3,25,3)]\n",
    "list1"
   ]
  },
  {
   "cell_type": "code",
   "execution_count": 45,
   "id": "724bed15",
   "metadata": {},
   "outputs": [
    {
     "data": {
      "text/plain": [
       "[-10, -8, -6, -4, -2, 0, 2, 4, 6, 8, 10]"
      ]
     },
     "execution_count": 45,
     "metadata": {},
     "output_type": "execute_result"
    }
   ],
   "source": [
    "list2 = [i for i in range(-10,11,2)]\n",
    "list2"
   ]
  },
  {
   "cell_type": "code",
   "execution_count": 46,
   "id": "230597de",
   "metadata": {},
   "outputs": [],
   "source": [
    "def average(listx):\n",
    "    small = min(listx)\n",
    "    large = max(listx)\n",
    "    \n",
    "    listx.remove(small)\n",
    "    listx.remove(large)\n",
    "    \n",
    "    sumx =sum([i for i in listx])\n",
    "    length = len(listx)\n",
    "    \n",
    "    average = sumx/length\n",
    "    \n",
    "    return average\n",
    "    "
   ]
  },
  {
   "cell_type": "code",
   "execution_count": 47,
   "id": "b9746fe4",
   "metadata": {},
   "outputs": [
    {
     "data": {
      "text/plain": [
       "13.5"
      ]
     },
     "execution_count": 47,
     "metadata": {},
     "output_type": "execute_result"
    }
   ],
   "source": [
    "average(list1)"
   ]
  },
  {
   "cell_type": "code",
   "execution_count": 48,
   "id": "caea1f0d",
   "metadata": {},
   "outputs": [
    {
     "data": {
      "text/plain": [
       "0.0"
      ]
     },
     "execution_count": 48,
     "metadata": {},
     "output_type": "execute_result"
    }
   ],
   "source": [
    "average(list2)"
   ]
  },
  {
   "cell_type": "markdown",
   "id": "f1c76b51",
   "metadata": {},
   "source": [
    "\n",
    "18. Develop a program that converts a given temperature from Celsius to Fahrenheit.\n"
   ]
  },
  {
   "cell_type": "code",
   "execution_count": 56,
   "id": "a175fc37",
   "metadata": {},
   "outputs": [
    {
     "name": "stdout",
     "output_type": "stream",
     "text": [
      "The Farenheit temperature of 32 is : 0.0\n",
      "The Farenheit temperature of 100 is : 37.77777777777778\n",
      "The Farenheit temperature of 94 is : 34.44444444444444\n",
      "The Farenheit temperature of 95 is : 35.0\n",
      "The Farenheit temperature of 96 is : 35.55555555555556\n",
      "The Farenheit temperature of 97 is : 36.111111111111114\n",
      "The Farenheit temperature of 98 is : 36.66666666666667\n",
      "The Farenheit temperature of 99 is : 37.22222222222222\n",
      "The Farenheit temperature of 100 is : 37.77777777777778\n"
     ]
    }
   ],
   "source": [
    "farenheit = [32, 100,94, 95, 96,97,98,99, 100]\n",
    "for i in farenheit:\n",
    "    print(\"The Farenheit temperature of\",i, \"is :\",(i-32)*(5/9))"
   ]
  },
  {
   "cell_type": "markdown",
   "id": "5b0054af",
   "metadata": {},
   "source": [
    "\n",
    "19. Create a program that simulates a basic calculator for addition, subtraction, multiplication, and division.\n"
   ]
  },
  {
   "cell_type": "code",
   "execution_count": 164,
   "id": "6dcee8db",
   "metadata": {},
   "outputs": [],
   "source": [
    "\n",
    "def addition(num1,num2):\n",
    "    return num1+num2\n",
    "\n",
    "def substraction(num1,num2):\n",
    "    return num1-num2\n",
    "\n",
    "def multiply(num1,num2):\n",
    "    return num1*num2\n",
    "\n",
    "def division(num1,num2):\n",
    "    return num1/num2"
   ]
  },
  {
   "cell_type": "code",
   "execution_count": 165,
   "id": "c5ace527",
   "metadata": {},
   "outputs": [
    {
     "data": {
      "text/plain": [
       "15"
      ]
     },
     "execution_count": 165,
     "metadata": {},
     "output_type": "execute_result"
    }
   ],
   "source": [
    "addition(5,10)"
   ]
  },
  {
   "cell_type": "code",
   "execution_count": 166,
   "id": "a6a27c3a",
   "metadata": {},
   "outputs": [
    {
     "data": {
      "text/plain": [
       "-90"
      ]
     },
     "execution_count": 166,
     "metadata": {},
     "output_type": "execute_result"
    }
   ],
   "source": [
    "substraction(10,100)"
   ]
  },
  {
   "cell_type": "code",
   "execution_count": 168,
   "id": "b9c3f70f",
   "metadata": {},
   "outputs": [
    {
     "data": {
      "text/plain": [
       "0.1"
      ]
     },
     "execution_count": 168,
     "metadata": {},
     "output_type": "execute_result"
    }
   ],
   "source": [
    "division(10,100)"
   ]
  },
  {
   "cell_type": "markdown",
   "id": "8e0cf19f",
   "metadata": {},
   "source": [
    "\n",
    "\n",
    "\n",
    "20. Write a program that determines the roots of a cubic equation using the Carda\n",
    "\n",
    "\n",
    "\n",
    "\n"
   ]
  },
  {
   "cell_type": "code",
   "execution_count": null,
   "id": "285ee735",
   "metadata": {},
   "outputs": [],
   "source": []
  },
  {
   "cell_type": "code",
   "execution_count": null,
   "id": "bee27a9f",
   "metadata": {},
   "outputs": [],
   "source": []
  },
  {
   "cell_type": "code",
   "execution_count": null,
   "id": "597de096",
   "metadata": {},
   "outputs": [],
   "source": []
  },
  {
   "cell_type": "code",
   "execution_count": null,
   "id": "fee2aa1a",
   "metadata": {},
   "outputs": [],
   "source": []
  },
  {
   "cell_type": "markdown",
   "id": "f1c8dd76",
   "metadata": {},
   "source": [
    "# Advanced Level:"
   ]
  },
  {
   "cell_type": "markdown",
   "id": "54096432",
   "metadata": {},
   "source": [
    "\n",
    "21. Create a program that calculates the sum of the digits of numbers in a list using a list comprehension."
   ]
  },
  {
   "cell_type": "code",
   "execution_count": 53,
   "id": "c7f6be55",
   "metadata": {},
   "outputs": [
    {
     "data": {
      "text/plain": [
       "[-8, -7, -6, -5, -4, -3, -2, -1, 0, 1, 2, 3, 4, 5, 6, 7, 8, 9]"
      ]
     },
     "execution_count": 53,
     "metadata": {},
     "output_type": "execute_result"
    }
   ],
   "source": [
    "list3 = [i for i in range(-8, 10)]\n",
    "list3"
   ]
  },
  {
   "cell_type": "code",
   "execution_count": 55,
   "id": "3a6c66ce",
   "metadata": {},
   "outputs": [
    {
     "data": {
      "text/plain": [
       "9"
      ]
     },
     "execution_count": 55,
     "metadata": {},
     "output_type": "execute_result"
    }
   ],
   "source": [
    "sum([i for i in list3])"
   ]
  },
  {
   "cell_type": "markdown",
   "id": "b6f0b59d",
   "metadata": {},
   "source": [
    "22. Write a program to find the prime factors of a given number using a `for` loop and list comprehension."
   ]
  },
  {
   "cell_type": "raw",
   "id": "b63b11c0",
   "metadata": {},
   "source": [
    "factors of 10 :1,2,5,10\n",
    "factors of 20: 1,2,4,5,10,20\n",
    "factors of 15 : 1,3,5,15\n",
    "factors of 18: 1,3,6,9,18\n",
    "    "
   ]
  },
  {
   "cell_type": "code",
   "execution_count": 152,
   "id": "b008df15",
   "metadata": {},
   "outputs": [],
   "source": [
    "def factors(num):\n",
    "    return \"factors of\", num, \"are:\", [i for i in range(1,num+1) if num%i ==0]\n",
    "    "
   ]
  },
  {
   "cell_type": "code",
   "execution_count": 154,
   "id": "eea73b2f",
   "metadata": {},
   "outputs": [
    {
     "name": "stdout",
     "output_type": "stream",
     "text": [
      "('factors of', 20, 'are:', [1, 2, 4, 5, 10, 20])\n",
      "('factors of', 48, 'are:', [1, 2, 3, 4, 6, 8, 12, 16, 24, 48])\n",
      "('factors of', 100, 'are:', [1, 2, 4, 5, 10, 20, 25, 50, 100])\n",
      "('factors of', 72, 'are:', [1, 2, 3, 4, 6, 8, 9, 12, 18, 24, 36, 72])\n",
      "('factors of', 18, 'are:', [1, 2, 3, 6, 9, 18])\n",
      "('factors of', 15, 'are:', [1, 3, 5, 15])\n",
      "('factors of', 88, 'are:', [1, 2, 4, 8, 11, 22, 44, 88])\n"
     ]
    }
   ],
   "source": [
    "for i in [20,48,100,72,18,15,88]:\n",
    "    print(factors(i))"
   ]
  },
  {
   "cell_type": "markdown",
   "id": "58526cb9",
   "metadata": {},
   "source": [
    "23. Develop a program that extracts unique elements from a list and stores them in a new list using a list\n",
    "comprehension."
   ]
  },
  {
   "cell_type": "code",
   "execution_count": 66,
   "id": "78d399af",
   "metadata": {},
   "outputs": [
    {
     "data": {
      "text/plain": [
       "[-8, -6, -4, -2, 0, 2, 4, 6, 8]"
      ]
     },
     "execution_count": 66,
     "metadata": {},
     "output_type": "execute_result"
    }
   ],
   "source": [
    "list2"
   ]
  },
  {
   "cell_type": "code",
   "execution_count": 75,
   "id": "06e489ee",
   "metadata": {},
   "outputs": [],
   "source": [
    "list4 = [1,7,0,1,6,7,7,7,1,2,3,4,5,0,4,6,2,3,2,3]"
   ]
  },
  {
   "cell_type": "code",
   "execution_count": 82,
   "id": "ea3da93e",
   "metadata": {},
   "outputs": [],
   "source": [
    "def unique(listx):\n",
    "    unique_list =[]\n",
    "    for i in listx:\n",
    "        if i not in unique_list:\n",
    "            unique_list.append(i)\n",
    "    return unique_list\n",
    "    "
   ]
  },
  {
   "cell_type": "code",
   "execution_count": 161,
   "id": "8fe3764d",
   "metadata": {},
   "outputs": [
    {
     "data": {
      "text/plain": [
       "[1, 7, 0, 6, 2, 3, 4, 5]"
      ]
     },
     "execution_count": 161,
     "metadata": {},
     "output_type": "execute_result"
    }
   ],
   "source": [
    "unique(list4)"
   ]
  },
  {
   "cell_type": "markdown",
   "id": "7ba97f1e",
   "metadata": {},
   "source": [
    "24. Create a program that generates a list of all palindromic numbers up to a specified limit using a list\n",
    "comprehension."
   ]
  },
  {
   "cell_type": "code",
   "execution_count": 87,
   "id": "5e986308",
   "metadata": {},
   "outputs": [],
   "source": [
    "def palindrome(limit):\n",
    "    palindromic_list =[]\n",
    "    for i in range(11, limit+1):\n",
    "        if str(i) == str(i)[::-1] :\n",
    "            palindromic_list.append(i)\n",
    "    return palindromic_list\n",
    "            \n",
    "    "
   ]
  },
  {
   "cell_type": "code",
   "execution_count": 88,
   "id": "f4dc87f7",
   "metadata": {},
   "outputs": [
    {
     "data": {
      "text/plain": [
       "[11, 22, 33, 44, 55, 66, 77, 88, 99]"
      ]
     },
     "execution_count": 88,
     "metadata": {},
     "output_type": "execute_result"
    }
   ],
   "source": [
    "palindrome(100)"
   ]
  },
  {
   "cell_type": "code",
   "execution_count": 90,
   "id": "e5c7a4e7",
   "metadata": {},
   "outputs": [
    {
     "name": "stdout",
     "output_type": "stream",
     "text": [
      "[11, 22, 33, 44, 55, 66, 77, 88, 99, 101, 111, 121, 131, 141, 151, 161, 171, 181, 191, 202, 212, 222, 232, 242, 252, 262, 272, 282, 292, 303, 313, 323, 333, 343, 353, 363, 373, 383, 393, 404, 414, 424, 434, 444, 454, 464, 474, 484, 494, 505, 515, 525, 535, 545, 555, 565, 575, 585, 595, 606, 616, 626, 636, 646, 656, 666, 676, 686, 696, 707, 717, 727, 737, 747, 757, 767, 777, 787, 797, 808, 818, 828, 838, 848, 858, 868, 878, 888, 898, 909, 919, 929, 939, 949, 959, 969, 979, 989, 999]\n"
     ]
    }
   ],
   "source": [
    "print(palindrome(1000))"
   ]
  },
  {
   "cell_type": "markdown",
   "id": "78304c81",
   "metadata": {},
   "source": [
    "\n",
    "25. Write a program to flatten a nested list using list comprehension."
   ]
  },
  {
   "cell_type": "code",
   "execution_count": 91,
   "id": "74f08481",
   "metadata": {},
   "outputs": [],
   "source": [
    "nest_list =[[1,2],[3,4,5],[6,7,8],[9]]"
   ]
  },
  {
   "cell_type": "code",
   "execution_count": 92,
   "id": "b1b869dc",
   "metadata": {},
   "outputs": [
    {
     "data": {
      "text/plain": [
       "[1, 2, 3, 4, 5, 6, 7, 8, 9]"
      ]
     },
     "execution_count": 92,
     "metadata": {},
     "output_type": "execute_result"
    }
   ],
   "source": [
    "[i for sub in nest_list for i in sub]"
   ]
  },
  {
   "cell_type": "markdown",
   "id": "8af947e4",
   "metadata": {},
   "source": [
    "26. Develop a program that computes the sum of even and odd numbers in a list separately using list\n",
    "comprehension."
   ]
  },
  {
   "cell_type": "code",
   "execution_count": 96,
   "id": "1c70a5b3",
   "metadata": {},
   "outputs": [
    {
     "data": {
      "text/plain": [
       "[5, 6, 7, 8, 9, 10, 11, 12, 13, 14, 15]"
      ]
     },
     "execution_count": 96,
     "metadata": {},
     "output_type": "execute_result"
    }
   ],
   "source": [
    "list5 =[i for i in range(5,16)]\n",
    "list5"
   ]
  },
  {
   "cell_type": "code",
   "execution_count": 103,
   "id": "a2af0765",
   "metadata": {},
   "outputs": [],
   "source": [
    "def sum_even_odd(listx):\n",
    "    even_list = sum([i for i in listx if i%2 ==0])\n",
    "    odd_sum = sum([i for i in listx if i%2 !=0])   \n",
    "    return \"sum of even numbers is:\",even_list, \"sum of odd numbers is:\",odd_sum"
   ]
  },
  {
   "cell_type": "code",
   "execution_count": 104,
   "id": "8b90238b",
   "metadata": {},
   "outputs": [
    {
     "data": {
      "text/plain": [
       "('sum of even numbers is:', 50, 'sum of odd numbers is:', 60)"
      ]
     },
     "execution_count": 104,
     "metadata": {},
     "output_type": "execute_result"
    }
   ],
   "source": [
    "sum_even_odd(list5)"
   ]
  },
  {
   "cell_type": "code",
   "execution_count": 108,
   "id": "341df5fb",
   "metadata": {},
   "outputs": [
    {
     "data": {
      "text/plain": [
       "[1, 7, 0, 1, 6, 7, 7, 7, 1, 2, 3, 4, 5, 0, 4, 6, 2, 3, 2, 3]"
      ]
     },
     "execution_count": 108,
     "metadata": {},
     "output_type": "execute_result"
    }
   ],
   "source": [
    "list4"
   ]
  },
  {
   "cell_type": "code",
   "execution_count": 109,
   "id": "43c9fe9f",
   "metadata": {},
   "outputs": [
    {
     "data": {
      "text/plain": [
       "('sum of even numbers is:', 26, 'sum of odd numbers is:', 45)"
      ]
     },
     "execution_count": 109,
     "metadata": {},
     "output_type": "execute_result"
    }
   ],
   "source": [
    "sum_even_odd(list4)"
   ]
  },
  {
   "cell_type": "markdown",
   "id": "e4792b07",
   "metadata": {},
   "source": [
    "27. Create a program that generates a list of squares of odd numbers between 1 and 10 using list\n",
    "comprehension."
   ]
  },
  {
   "cell_type": "code",
   "execution_count": 111,
   "id": "ecf98df5",
   "metadata": {},
   "outputs": [
    {
     "data": {
      "text/plain": [
       "[1, 9, 25, 49, 81]"
      ]
     },
     "execution_count": 111,
     "metadata": {},
     "output_type": "execute_result"
    }
   ],
   "source": [
    "[i**2 for i in range(1,10) if i%2 !=0]"
   ]
  },
  {
   "cell_type": "markdown",
   "id": "68aba277",
   "metadata": {},
   "source": [
    "28. Write a program that combines two lists into a dictionary using list comprehension.\n"
   ]
  },
  {
   "cell_type": "code",
   "execution_count": 117,
   "id": "3052fb51",
   "metadata": {},
   "outputs": [],
   "source": [
    "list1 =[\"one\",\"two\",\"three\",\"four\",\"five\"]\n",
    "list2 =[1,2,3,4]"
   ]
  },
  {
   "cell_type": "code",
   "execution_count": 118,
   "id": "3ebf54ca",
   "metadata": {},
   "outputs": [
    {
     "data": {
      "text/plain": [
       "{'one': 1, 'two': 2, 'three': 3, 'four': 4}"
      ]
     },
     "execution_count": 118,
     "metadata": {},
     "output_type": "execute_result"
    }
   ],
   "source": [
    "{list1[i]:list2[i] for i in range(0, len(list2))}"
   ]
  },
  {
   "cell_type": "markdown",
   "id": "38c99ba8",
   "metadata": {},
   "source": [
    "\n",
    "29. Develop a program that extracts the vowels from a string and stores them in a list using list comprehension.\n"
   ]
  },
  {
   "cell_type": "code",
   "execution_count": 127,
   "id": "894c5549",
   "metadata": {},
   "outputs": [],
   "source": [
    "string1= \"YoUAReSpecial\""
   ]
  },
  {
   "cell_type": "code",
   "execution_count": 129,
   "id": "92c2aa58",
   "metadata": {},
   "outputs": [
    {
     "data": {
      "text/plain": [
       "['o', 'U', 'A', 'e', 'e', 'i', 'a']"
      ]
     },
     "execution_count": 129,
     "metadata": {},
     "output_type": "execute_result"
    }
   ],
   "source": [
    "vowel_list =[i for i in string1 if i in \"aeiouAEIOU\"]\n",
    "vowel_list"
   ]
  },
  {
   "cell_type": "markdown",
   "id": "635bdada",
   "metadata": {},
   "source": [
    "\n",
    "30. Create a program that removes all non-numeric characters from a list of strings using list comprehension."
   ]
  },
  {
   "cell_type": "code",
   "execution_count": 130,
   "id": "bd92018f",
   "metadata": {},
   "outputs": [],
   "source": [
    "list1 = ['4geeks', '3for', '4geeks']"
   ]
  },
  {
   "cell_type": "code",
   "execution_count": null,
   "id": "1ee0facb",
   "metadata": {},
   "outputs": [],
   "source": [
    "list2 = [''.join(x for x in i if x.isalpha()) for i in list1]"
   ]
  },
  {
   "cell_type": "code",
   "execution_count": 135,
   "id": "f7a959d6",
   "metadata": {},
   "outputs": [
    {
     "data": {
      "text/plain": [
       "['geeks', 'for', 'geeks']"
      ]
     },
     "execution_count": 135,
     "metadata": {},
     "output_type": "execute_result"
    }
   ],
   "source": [
    "[\"\".join(x for x in string if x.isalpha())for string in list1]"
   ]
  },
  {
   "cell_type": "markdown",
   "id": "4ca94a44",
   "metadata": {},
   "source": [
    "# Challenge Level:"
   ]
  },
  {
   "cell_type": "markdown",
   "id": "af33ba84",
   "metadata": {},
   "source": [
    "\n",
    "\n",
    "31. Create a program that validates a password based on complexity rules (length, characters, etc.).\n"
   ]
  },
  {
   "cell_type": "code",
   "execution_count": null,
   "id": "b28d832b",
   "metadata": {},
   "outputs": [],
   "source": []
  },
  {
   "cell_type": "code",
   "execution_count": null,
   "id": "958835f7",
   "metadata": {},
   "outputs": [],
   "source": []
  },
  {
   "cell_type": "markdown",
   "id": "8a45fe57",
   "metadata": {},
   "source": [
    "\n",
    "32. Develop a program that performs matrix addition and subtraction based on user input.\n"
   ]
  },
  {
   "cell_type": "code",
   "execution_count": null,
   "id": "b5db2ad6",
   "metadata": {},
   "outputs": [],
   "source": []
  },
  {
   "cell_type": "code",
   "execution_count": null,
   "id": "a1e9ee2b",
   "metadata": {},
   "outputs": [],
   "source": []
  },
  {
   "cell_type": "markdown",
   "id": "ec03a88a",
   "metadata": {},
   "source": [
    "\n",
    "33. Write a program that calculates the greatest common divisor (GCD) of two numbers using the Euclidean\n",
    "algorithm.\n"
   ]
  },
  {
   "cell_type": "code",
   "execution_count": 251,
   "id": "1517f076",
   "metadata": {},
   "outputs": [],
   "source": [
    "num1 =72\n",
    "num2 =108"
   ]
  },
  {
   "cell_type": "code",
   "execution_count": 259,
   "id": "7820b8b0",
   "metadata": {},
   "outputs": [
    {
     "data": {
      "text/plain": [
       "36"
      ]
     },
     "execution_count": 259,
     "metadata": {},
     "output_type": "execute_result"
    }
   ],
   "source": [
    "gcd =[]\n",
    "small = min(num1,num2)\n",
    "for i in range(1,small+1):\n",
    "    if num1% i == 0 and num2%i ==0:\n",
    "        gcd.append(i)\n",
    "gcd[-1]"
   ]
  },
  {
   "cell_type": "code",
   "execution_count": null,
   "id": "7733113f",
   "metadata": {},
   "outputs": [],
   "source": []
  },
  {
   "cell_type": "code",
   "execution_count": null,
   "id": "c9e16b0b",
   "metadata": {},
   "outputs": [],
   "source": []
  },
  {
   "cell_type": "markdown",
   "id": "c67cd400",
   "metadata": {},
   "source": [
    "\n",
    "34. Build a program that performs matrix multiplication using nested loops and conditional statements.\n",
    "\n"
   ]
  },
  {
   "cell_type": "markdown",
   "id": "5c99aa69",
   "metadata": {},
   "source": [
    "\n",
    "35. Create a program that simulates a basic text-based tic-tac-toe game against the computer.\n"
   ]
  },
  {
   "cell_type": "markdown",
   "id": "ecfb06a2",
   "metadata": {},
   "source": [
    "\n",
    "36. Write a program that generates Fibonacci numbers up to a specified term using iterative methods.\n"
   ]
  },
  {
   "cell_type": "raw",
   "id": "c36447b4",
   "metadata": {},
   "source": [
    "Fibonacci numbers are: 0, 1, 1, 2, 3, 5, 8, 13, 21, 34, 55, 89, 144, 233, 377, 610, 987, 1597, 2584, 4181.\n"
   ]
  },
  {
   "cell_type": "code",
   "execution_count": 201,
   "id": "758c4746",
   "metadata": {},
   "outputs": [
    {
     "name": "stdout",
     "output_type": "stream",
     "text": [
      "0 1 1 2 3 5 8 13 21 34 "
     ]
    }
   ],
   "source": [
    "a = 0\n",
    "b = 1\n",
    "terms =10\n",
    "print(a,b,end=\" \")\n",
    "while(terms-2):\n",
    "    c = a+b\n",
    "    a,b = b,c\n",
    "    print(c,end=\" \")\n",
    "    terms =terms-1"
   ]
  },
  {
   "cell_type": "markdown",
   "id": "f4af8d38",
   "metadata": {},
   "source": [
    "\n",
    "37. Develop a program that calculates the nth term of the Fibonacci sequence using memoization.\n"
   ]
  },
  {
   "cell_type": "code",
   "execution_count": 247,
   "id": "23d9ba34",
   "metadata": {},
   "outputs": [],
   "source": [
    "def term(n):\n",
    "    fibonacci_list =[0,1]\n",
    "    a = 0\n",
    "    b =1\n",
    "    for i in range(1,14):\n",
    "        c = a+b\n",
    "        fibonacci_list.append(c)\n",
    "        a =b\n",
    "        b =c\n",
    "    #return fibonacci_list\n",
    "    return \"The\",n,\"th term in fibonacci series is:\",fibonacci_list[n-1]"
   ]
  },
  {
   "cell_type": "code",
   "execution_count": 248,
   "id": "8a7a7c47",
   "metadata": {},
   "outputs": [
    {
     "data": {
      "text/plain": [
       "('The', 7, 'th term in fibonacci series is:', 8)"
      ]
     },
     "execution_count": 248,
     "metadata": {},
     "output_type": "execute_result"
    }
   ],
   "source": [
    "term(7)"
   ]
  },
  {
   "cell_type": "code",
   "execution_count": 249,
   "id": "c803e9a5",
   "metadata": {},
   "outputs": [
    {
     "data": {
      "text/plain": [
       "('The', 3, 'th term in fibonacci series is:', 1)"
      ]
     },
     "execution_count": 249,
     "metadata": {},
     "output_type": "execute_result"
    }
   ],
   "source": [
    "term(3)"
   ]
  },
  {
   "cell_type": "markdown",
   "id": "fe72f633",
   "metadata": {},
   "source": [
    "\n",
    "38. Create a program that generates a calendar for a given month and year using conditional statements.\n"
   ]
  },
  {
   "cell_type": "markdown",
   "id": "160d8e55",
   "metadata": {},
   "source": [
    "\n",
    "39. Build a program that simulates a basic text-based blackjack game against the computer.\n"
   ]
  },
  {
   "cell_type": "markdown",
   "id": "626c539a",
   "metadata": {},
   "source": [
    "\n",
    "40. Write a program that generates the prime factors of a given number using trial division."
   ]
  },
  {
   "cell_type": "code",
   "execution_count": null,
   "id": "85d1c1cd",
   "metadata": {},
   "outputs": [],
   "source": []
  }
 ],
 "metadata": {
  "kernelspec": {
   "display_name": "Python 3 (ipykernel)",
   "language": "python",
   "name": "python3"
  },
  "language_info": {
   "codemirror_mode": {
    "name": "ipython",
    "version": 3
   },
   "file_extension": ".py",
   "mimetype": "text/x-python",
   "name": "python",
   "nbconvert_exporter": "python",
   "pygments_lexer": "ipython3",
   "version": "3.10.9"
  }
 },
 "nbformat": 4,
 "nbformat_minor": 5
}
